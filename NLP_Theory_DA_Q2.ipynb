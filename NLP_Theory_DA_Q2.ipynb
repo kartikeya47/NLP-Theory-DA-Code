{
  "nbformat": 4,
  "nbformat_minor": 0,
  "metadata": {
    "colab": {
      "provenance": [],
      "gpuType": "T4"
    },
    "kernelspec": {
      "name": "python3",
      "display_name": "Python 3"
    },
    "language_info": {
      "name": "python"
    },
    "accelerator": "GPU",
    "widgets": {
      "application/vnd.jupyter.widget-state+json": {
        "2e59f1d868784412b22f7d9eca9ca073": {
          "model_module": "@jupyter-widgets/controls",
          "model_name": "HBoxModel",
          "model_module_version": "1.5.0",
          "state": {
            "_dom_classes": [],
            "_model_module": "@jupyter-widgets/controls",
            "_model_module_version": "1.5.0",
            "_model_name": "HBoxModel",
            "_view_count": null,
            "_view_module": "@jupyter-widgets/controls",
            "_view_module_version": "1.5.0",
            "_view_name": "HBoxView",
            "box_style": "",
            "children": [
              "IPY_MODEL_37d2599ab4b84226bb1b7411bebeb797",
              "IPY_MODEL_cf278aed6c634e3f914375dc30a7cc89",
              "IPY_MODEL_3d10b3eba26a4f7aaf528d6b3539cba8"
            ],
            "layout": "IPY_MODEL_39aa3adb8817434ea0841a4ca467d27a"
          }
        },
        "37d2599ab4b84226bb1b7411bebeb797": {
          "model_module": "@jupyter-widgets/controls",
          "model_name": "HTMLModel",
          "model_module_version": "1.5.0",
          "state": {
            "_dom_classes": [],
            "_model_module": "@jupyter-widgets/controls",
            "_model_module_version": "1.5.0",
            "_model_name": "HTMLModel",
            "_view_count": null,
            "_view_module": "@jupyter-widgets/controls",
            "_view_module_version": "1.5.0",
            "_view_name": "HTMLView",
            "description": "",
            "description_tooltip": null,
            "layout": "IPY_MODEL_a8ad622c4b924156a9249647dc1e4b7b",
            "placeholder": "​",
            "style": "IPY_MODEL_71450785489d47ec8383eaf99fe0b8c2",
            "value": "Map: 100%"
          }
        },
        "cf278aed6c634e3f914375dc30a7cc89": {
          "model_module": "@jupyter-widgets/controls",
          "model_name": "FloatProgressModel",
          "model_module_version": "1.5.0",
          "state": {
            "_dom_classes": [],
            "_model_module": "@jupyter-widgets/controls",
            "_model_module_version": "1.5.0",
            "_model_name": "FloatProgressModel",
            "_view_count": null,
            "_view_module": "@jupyter-widgets/controls",
            "_view_module_version": "1.5.0",
            "_view_name": "ProgressView",
            "bar_style": "success",
            "description": "",
            "description_tooltip": null,
            "layout": "IPY_MODEL_e322471927104bb7b4656fe3420fb2a5",
            "max": 200000,
            "min": 0,
            "orientation": "horizontal",
            "style": "IPY_MODEL_85fc6bf740aa4eb597a3e10b3c60bfa8",
            "value": 200000
          }
        },
        "3d10b3eba26a4f7aaf528d6b3539cba8": {
          "model_module": "@jupyter-widgets/controls",
          "model_name": "HTMLModel",
          "model_module_version": "1.5.0",
          "state": {
            "_dom_classes": [],
            "_model_module": "@jupyter-widgets/controls",
            "_model_module_version": "1.5.0",
            "_model_name": "HTMLModel",
            "_view_count": null,
            "_view_module": "@jupyter-widgets/controls",
            "_view_module_version": "1.5.0",
            "_view_name": "HTMLView",
            "description": "",
            "description_tooltip": null,
            "layout": "IPY_MODEL_3e5b0a5a40594ff6bbe9ba83b8460600",
            "placeholder": "​",
            "style": "IPY_MODEL_408f3b8f4eb74ffcb05feed3bb0b9f0c",
            "value": " 200000/200000 [00:59&lt;00:00, 4147.81 examples/s]"
          }
        },
        "39aa3adb8817434ea0841a4ca467d27a": {
          "model_module": "@jupyter-widgets/base",
          "model_name": "LayoutModel",
          "model_module_version": "1.2.0",
          "state": {
            "_model_module": "@jupyter-widgets/base",
            "_model_module_version": "1.2.0",
            "_model_name": "LayoutModel",
            "_view_count": null,
            "_view_module": "@jupyter-widgets/base",
            "_view_module_version": "1.2.0",
            "_view_name": "LayoutView",
            "align_content": null,
            "align_items": null,
            "align_self": null,
            "border": null,
            "bottom": null,
            "display": null,
            "flex": null,
            "flex_flow": null,
            "grid_area": null,
            "grid_auto_columns": null,
            "grid_auto_flow": null,
            "grid_auto_rows": null,
            "grid_column": null,
            "grid_gap": null,
            "grid_row": null,
            "grid_template_areas": null,
            "grid_template_columns": null,
            "grid_template_rows": null,
            "height": null,
            "justify_content": null,
            "justify_items": null,
            "left": null,
            "margin": null,
            "max_height": null,
            "max_width": null,
            "min_height": null,
            "min_width": null,
            "object_fit": null,
            "object_position": null,
            "order": null,
            "overflow": null,
            "overflow_x": null,
            "overflow_y": null,
            "padding": null,
            "right": null,
            "top": null,
            "visibility": null,
            "width": null
          }
        },
        "a8ad622c4b924156a9249647dc1e4b7b": {
          "model_module": "@jupyter-widgets/base",
          "model_name": "LayoutModel",
          "model_module_version": "1.2.0",
          "state": {
            "_model_module": "@jupyter-widgets/base",
            "_model_module_version": "1.2.0",
            "_model_name": "LayoutModel",
            "_view_count": null,
            "_view_module": "@jupyter-widgets/base",
            "_view_module_version": "1.2.0",
            "_view_name": "LayoutView",
            "align_content": null,
            "align_items": null,
            "align_self": null,
            "border": null,
            "bottom": null,
            "display": null,
            "flex": null,
            "flex_flow": null,
            "grid_area": null,
            "grid_auto_columns": null,
            "grid_auto_flow": null,
            "grid_auto_rows": null,
            "grid_column": null,
            "grid_gap": null,
            "grid_row": null,
            "grid_template_areas": null,
            "grid_template_columns": null,
            "grid_template_rows": null,
            "height": null,
            "justify_content": null,
            "justify_items": null,
            "left": null,
            "margin": null,
            "max_height": null,
            "max_width": null,
            "min_height": null,
            "min_width": null,
            "object_fit": null,
            "object_position": null,
            "order": null,
            "overflow": null,
            "overflow_x": null,
            "overflow_y": null,
            "padding": null,
            "right": null,
            "top": null,
            "visibility": null,
            "width": null
          }
        },
        "71450785489d47ec8383eaf99fe0b8c2": {
          "model_module": "@jupyter-widgets/controls",
          "model_name": "DescriptionStyleModel",
          "model_module_version": "1.5.0",
          "state": {
            "_model_module": "@jupyter-widgets/controls",
            "_model_module_version": "1.5.0",
            "_model_name": "DescriptionStyleModel",
            "_view_count": null,
            "_view_module": "@jupyter-widgets/base",
            "_view_module_version": "1.2.0",
            "_view_name": "StyleView",
            "description_width": ""
          }
        },
        "e322471927104bb7b4656fe3420fb2a5": {
          "model_module": "@jupyter-widgets/base",
          "model_name": "LayoutModel",
          "model_module_version": "1.2.0",
          "state": {
            "_model_module": "@jupyter-widgets/base",
            "_model_module_version": "1.2.0",
            "_model_name": "LayoutModel",
            "_view_count": null,
            "_view_module": "@jupyter-widgets/base",
            "_view_module_version": "1.2.0",
            "_view_name": "LayoutView",
            "align_content": null,
            "align_items": null,
            "align_self": null,
            "border": null,
            "bottom": null,
            "display": null,
            "flex": null,
            "flex_flow": null,
            "grid_area": null,
            "grid_auto_columns": null,
            "grid_auto_flow": null,
            "grid_auto_rows": null,
            "grid_column": null,
            "grid_gap": null,
            "grid_row": null,
            "grid_template_areas": null,
            "grid_template_columns": null,
            "grid_template_rows": null,
            "height": null,
            "justify_content": null,
            "justify_items": null,
            "left": null,
            "margin": null,
            "max_height": null,
            "max_width": null,
            "min_height": null,
            "min_width": null,
            "object_fit": null,
            "object_position": null,
            "order": null,
            "overflow": null,
            "overflow_x": null,
            "overflow_y": null,
            "padding": null,
            "right": null,
            "top": null,
            "visibility": null,
            "width": null
          }
        },
        "85fc6bf740aa4eb597a3e10b3c60bfa8": {
          "model_module": "@jupyter-widgets/controls",
          "model_name": "ProgressStyleModel",
          "model_module_version": "1.5.0",
          "state": {
            "_model_module": "@jupyter-widgets/controls",
            "_model_module_version": "1.5.0",
            "_model_name": "ProgressStyleModel",
            "_view_count": null,
            "_view_module": "@jupyter-widgets/base",
            "_view_module_version": "1.2.0",
            "_view_name": "StyleView",
            "bar_color": null,
            "description_width": ""
          }
        },
        "3e5b0a5a40594ff6bbe9ba83b8460600": {
          "model_module": "@jupyter-widgets/base",
          "model_name": "LayoutModel",
          "model_module_version": "1.2.0",
          "state": {
            "_model_module": "@jupyter-widgets/base",
            "_model_module_version": "1.2.0",
            "_model_name": "LayoutModel",
            "_view_count": null,
            "_view_module": "@jupyter-widgets/base",
            "_view_module_version": "1.2.0",
            "_view_name": "LayoutView",
            "align_content": null,
            "align_items": null,
            "align_self": null,
            "border": null,
            "bottom": null,
            "display": null,
            "flex": null,
            "flex_flow": null,
            "grid_area": null,
            "grid_auto_columns": null,
            "grid_auto_flow": null,
            "grid_auto_rows": null,
            "grid_column": null,
            "grid_gap": null,
            "grid_row": null,
            "grid_template_areas": null,
            "grid_template_columns": null,
            "grid_template_rows": null,
            "height": null,
            "justify_content": null,
            "justify_items": null,
            "left": null,
            "margin": null,
            "max_height": null,
            "max_width": null,
            "min_height": null,
            "min_width": null,
            "object_fit": null,
            "object_position": null,
            "order": null,
            "overflow": null,
            "overflow_x": null,
            "overflow_y": null,
            "padding": null,
            "right": null,
            "top": null,
            "visibility": null,
            "width": null
          }
        },
        "408f3b8f4eb74ffcb05feed3bb0b9f0c": {
          "model_module": "@jupyter-widgets/controls",
          "model_name": "DescriptionStyleModel",
          "model_module_version": "1.5.0",
          "state": {
            "_model_module": "@jupyter-widgets/controls",
            "_model_module_version": "1.5.0",
            "_model_name": "DescriptionStyleModel",
            "_view_count": null,
            "_view_module": "@jupyter-widgets/base",
            "_view_module_version": "1.2.0",
            "_view_name": "StyleView",
            "description_width": ""
          }
        },
        "379b854f39b84d8bad86a1c3d75fdd0b": {
          "model_module": "@jupyter-widgets/controls",
          "model_name": "HBoxModel",
          "model_module_version": "1.5.0",
          "state": {
            "_dom_classes": [],
            "_model_module": "@jupyter-widgets/controls",
            "_model_module_version": "1.5.0",
            "_model_name": "HBoxModel",
            "_view_count": null,
            "_view_module": "@jupyter-widgets/controls",
            "_view_module_version": "1.5.0",
            "_view_name": "HBoxView",
            "box_style": "",
            "children": [
              "IPY_MODEL_443d5b5e28d24f24946479e613ed2e1f",
              "IPY_MODEL_b022eb9062c54211a47142083764d81c",
              "IPY_MODEL_179b20821ed04e6bb6fa7f06b7e2a8f1"
            ],
            "layout": "IPY_MODEL_eb3a3447c5d94936a7dfee59373ced9d"
          }
        },
        "443d5b5e28d24f24946479e613ed2e1f": {
          "model_module": "@jupyter-widgets/controls",
          "model_name": "HTMLModel",
          "model_module_version": "1.5.0",
          "state": {
            "_dom_classes": [],
            "_model_module": "@jupyter-widgets/controls",
            "_model_module_version": "1.5.0",
            "_model_name": "HTMLModel",
            "_view_count": null,
            "_view_module": "@jupyter-widgets/controls",
            "_view_module_version": "1.5.0",
            "_view_name": "HTMLView",
            "description": "",
            "description_tooltip": null,
            "layout": "IPY_MODEL_4a5fbe8b4586439baf2a74f114a25236",
            "placeholder": "​",
            "style": "IPY_MODEL_c35644ea09f1416583ed3d23068201a7",
            "value": "Map: 100%"
          }
        },
        "b022eb9062c54211a47142083764d81c": {
          "model_module": "@jupyter-widgets/controls",
          "model_name": "FloatProgressModel",
          "model_module_version": "1.5.0",
          "state": {
            "_dom_classes": [],
            "_model_module": "@jupyter-widgets/controls",
            "_model_module_version": "1.5.0",
            "_model_name": "FloatProgressModel",
            "_view_count": null,
            "_view_module": "@jupyter-widgets/controls",
            "_view_module_version": "1.5.0",
            "_view_name": "ProgressView",
            "bar_style": "success",
            "description": "",
            "description_tooltip": null,
            "layout": "IPY_MODEL_f6554331c3a64d4087c968dd46749d6d",
            "max": 60000,
            "min": 0,
            "orientation": "horizontal",
            "style": "IPY_MODEL_694db449021a4422b3a107d34b581a3f",
            "value": 60000
          }
        },
        "179b20821ed04e6bb6fa7f06b7e2a8f1": {
          "model_module": "@jupyter-widgets/controls",
          "model_name": "HTMLModel",
          "model_module_version": "1.5.0",
          "state": {
            "_dom_classes": [],
            "_model_module": "@jupyter-widgets/controls",
            "_model_module_version": "1.5.0",
            "_model_name": "HTMLModel",
            "_view_count": null,
            "_view_module": "@jupyter-widgets/controls",
            "_view_module_version": "1.5.0",
            "_view_name": "HTMLView",
            "description": "",
            "description_tooltip": null,
            "layout": "IPY_MODEL_d00ccc6f5eb94b1dbc156a728ab2aabd",
            "placeholder": "​",
            "style": "IPY_MODEL_8ee223973f494d8bb09872148f68c2ef",
            "value": " 60000/60000 [00:18&lt;00:00, 2951.68 examples/s]"
          }
        },
        "eb3a3447c5d94936a7dfee59373ced9d": {
          "model_module": "@jupyter-widgets/base",
          "model_name": "LayoutModel",
          "model_module_version": "1.2.0",
          "state": {
            "_model_module": "@jupyter-widgets/base",
            "_model_module_version": "1.2.0",
            "_model_name": "LayoutModel",
            "_view_count": null,
            "_view_module": "@jupyter-widgets/base",
            "_view_module_version": "1.2.0",
            "_view_name": "LayoutView",
            "align_content": null,
            "align_items": null,
            "align_self": null,
            "border": null,
            "bottom": null,
            "display": null,
            "flex": null,
            "flex_flow": null,
            "grid_area": null,
            "grid_auto_columns": null,
            "grid_auto_flow": null,
            "grid_auto_rows": null,
            "grid_column": null,
            "grid_gap": null,
            "grid_row": null,
            "grid_template_areas": null,
            "grid_template_columns": null,
            "grid_template_rows": null,
            "height": null,
            "justify_content": null,
            "justify_items": null,
            "left": null,
            "margin": null,
            "max_height": null,
            "max_width": null,
            "min_height": null,
            "min_width": null,
            "object_fit": null,
            "object_position": null,
            "order": null,
            "overflow": null,
            "overflow_x": null,
            "overflow_y": null,
            "padding": null,
            "right": null,
            "top": null,
            "visibility": null,
            "width": null
          }
        },
        "4a5fbe8b4586439baf2a74f114a25236": {
          "model_module": "@jupyter-widgets/base",
          "model_name": "LayoutModel",
          "model_module_version": "1.2.0",
          "state": {
            "_model_module": "@jupyter-widgets/base",
            "_model_module_version": "1.2.0",
            "_model_name": "LayoutModel",
            "_view_count": null,
            "_view_module": "@jupyter-widgets/base",
            "_view_module_version": "1.2.0",
            "_view_name": "LayoutView",
            "align_content": null,
            "align_items": null,
            "align_self": null,
            "border": null,
            "bottom": null,
            "display": null,
            "flex": null,
            "flex_flow": null,
            "grid_area": null,
            "grid_auto_columns": null,
            "grid_auto_flow": null,
            "grid_auto_rows": null,
            "grid_column": null,
            "grid_gap": null,
            "grid_row": null,
            "grid_template_areas": null,
            "grid_template_columns": null,
            "grid_template_rows": null,
            "height": null,
            "justify_content": null,
            "justify_items": null,
            "left": null,
            "margin": null,
            "max_height": null,
            "max_width": null,
            "min_height": null,
            "min_width": null,
            "object_fit": null,
            "object_position": null,
            "order": null,
            "overflow": null,
            "overflow_x": null,
            "overflow_y": null,
            "padding": null,
            "right": null,
            "top": null,
            "visibility": null,
            "width": null
          }
        },
        "c35644ea09f1416583ed3d23068201a7": {
          "model_module": "@jupyter-widgets/controls",
          "model_name": "DescriptionStyleModel",
          "model_module_version": "1.5.0",
          "state": {
            "_model_module": "@jupyter-widgets/controls",
            "_model_module_version": "1.5.0",
            "_model_name": "DescriptionStyleModel",
            "_view_count": null,
            "_view_module": "@jupyter-widgets/base",
            "_view_module_version": "1.2.0",
            "_view_name": "StyleView",
            "description_width": ""
          }
        },
        "f6554331c3a64d4087c968dd46749d6d": {
          "model_module": "@jupyter-widgets/base",
          "model_name": "LayoutModel",
          "model_module_version": "1.2.0",
          "state": {
            "_model_module": "@jupyter-widgets/base",
            "_model_module_version": "1.2.0",
            "_model_name": "LayoutModel",
            "_view_count": null,
            "_view_module": "@jupyter-widgets/base",
            "_view_module_version": "1.2.0",
            "_view_name": "LayoutView",
            "align_content": null,
            "align_items": null,
            "align_self": null,
            "border": null,
            "bottom": null,
            "display": null,
            "flex": null,
            "flex_flow": null,
            "grid_area": null,
            "grid_auto_columns": null,
            "grid_auto_flow": null,
            "grid_auto_rows": null,
            "grid_column": null,
            "grid_gap": null,
            "grid_row": null,
            "grid_template_areas": null,
            "grid_template_columns": null,
            "grid_template_rows": null,
            "height": null,
            "justify_content": null,
            "justify_items": null,
            "left": null,
            "margin": null,
            "max_height": null,
            "max_width": null,
            "min_height": null,
            "min_width": null,
            "object_fit": null,
            "object_position": null,
            "order": null,
            "overflow": null,
            "overflow_x": null,
            "overflow_y": null,
            "padding": null,
            "right": null,
            "top": null,
            "visibility": null,
            "width": null
          }
        },
        "694db449021a4422b3a107d34b581a3f": {
          "model_module": "@jupyter-widgets/controls",
          "model_name": "ProgressStyleModel",
          "model_module_version": "1.5.0",
          "state": {
            "_model_module": "@jupyter-widgets/controls",
            "_model_module_version": "1.5.0",
            "_model_name": "ProgressStyleModel",
            "_view_count": null,
            "_view_module": "@jupyter-widgets/base",
            "_view_module_version": "1.2.0",
            "_view_name": "StyleView",
            "bar_color": null,
            "description_width": ""
          }
        },
        "d00ccc6f5eb94b1dbc156a728ab2aabd": {
          "model_module": "@jupyter-widgets/base",
          "model_name": "LayoutModel",
          "model_module_version": "1.2.0",
          "state": {
            "_model_module": "@jupyter-widgets/base",
            "_model_module_version": "1.2.0",
            "_model_name": "LayoutModel",
            "_view_count": null,
            "_view_module": "@jupyter-widgets/base",
            "_view_module_version": "1.2.0",
            "_view_name": "LayoutView",
            "align_content": null,
            "align_items": null,
            "align_self": null,
            "border": null,
            "bottom": null,
            "display": null,
            "flex": null,
            "flex_flow": null,
            "grid_area": null,
            "grid_auto_columns": null,
            "grid_auto_flow": null,
            "grid_auto_rows": null,
            "grid_column": null,
            "grid_gap": null,
            "grid_row": null,
            "grid_template_areas": null,
            "grid_template_columns": null,
            "grid_template_rows": null,
            "height": null,
            "justify_content": null,
            "justify_items": null,
            "left": null,
            "margin": null,
            "max_height": null,
            "max_width": null,
            "min_height": null,
            "min_width": null,
            "object_fit": null,
            "object_position": null,
            "order": null,
            "overflow": null,
            "overflow_x": null,
            "overflow_y": null,
            "padding": null,
            "right": null,
            "top": null,
            "visibility": null,
            "width": null
          }
        },
        "8ee223973f494d8bb09872148f68c2ef": {
          "model_module": "@jupyter-widgets/controls",
          "model_name": "DescriptionStyleModel",
          "model_module_version": "1.5.0",
          "state": {
            "_model_module": "@jupyter-widgets/controls",
            "_model_module_version": "1.5.0",
            "_model_name": "DescriptionStyleModel",
            "_view_count": null,
            "_view_module": "@jupyter-widgets/base",
            "_view_module_version": "1.2.0",
            "_view_name": "StyleView",
            "description_width": ""
          }
        },
        "5ed3a597c5eb451896af5e8714a5890b": {
          "model_module": "@jupyter-widgets/controls",
          "model_name": "HBoxModel",
          "model_module_version": "1.5.0",
          "state": {
            "_dom_classes": [],
            "_model_module": "@jupyter-widgets/controls",
            "_model_module_version": "1.5.0",
            "_model_name": "HBoxModel",
            "_view_count": null,
            "_view_module": "@jupyter-widgets/controls",
            "_view_module_version": "1.5.0",
            "_view_name": "HBoxView",
            "box_style": "",
            "children": [
              "IPY_MODEL_a4a60b3876b94ae7874badd0984b216a",
              "IPY_MODEL_16df24a196e04a2891d764fa210e459d",
              "IPY_MODEL_9ae5b255e98c46508cfec8b24f8f4d18"
            ],
            "layout": "IPY_MODEL_41fb2414c4fc4228a6407badf6ba76b1"
          }
        },
        "a4a60b3876b94ae7874badd0984b216a": {
          "model_module": "@jupyter-widgets/controls",
          "model_name": "HTMLModel",
          "model_module_version": "1.5.0",
          "state": {
            "_dom_classes": [],
            "_model_module": "@jupyter-widgets/controls",
            "_model_module_version": "1.5.0",
            "_model_name": "HTMLModel",
            "_view_count": null,
            "_view_module": "@jupyter-widgets/controls",
            "_view_module_version": "1.5.0",
            "_view_name": "HTMLView",
            "description": "",
            "description_tooltip": null,
            "layout": "IPY_MODEL_753d83757e4b492a9803ef572a19fa5e",
            "placeholder": "​",
            "style": "IPY_MODEL_69e84feb418148739b612b6a69aab7b6",
            "value": "Map: 100%"
          }
        },
        "16df24a196e04a2891d764fa210e459d": {
          "model_module": "@jupyter-widgets/controls",
          "model_name": "FloatProgressModel",
          "model_module_version": "1.5.0",
          "state": {
            "_dom_classes": [],
            "_model_module": "@jupyter-widgets/controls",
            "_model_module_version": "1.5.0",
            "_model_name": "FloatProgressModel",
            "_view_count": null,
            "_view_module": "@jupyter-widgets/controls",
            "_view_module_version": "1.5.0",
            "_view_name": "ProgressView",
            "bar_style": "success",
            "description": "",
            "description_tooltip": null,
            "layout": "IPY_MODEL_e8cb044f8bf44d2fba8c2e4373ef34d1",
            "max": 60000,
            "min": 0,
            "orientation": "horizontal",
            "style": "IPY_MODEL_24079fbee6d446c8b87059b27b37d634",
            "value": 60000
          }
        },
        "9ae5b255e98c46508cfec8b24f8f4d18": {
          "model_module": "@jupyter-widgets/controls",
          "model_name": "HTMLModel",
          "model_module_version": "1.5.0",
          "state": {
            "_dom_classes": [],
            "_model_module": "@jupyter-widgets/controls",
            "_model_module_version": "1.5.0",
            "_model_name": "HTMLModel",
            "_view_count": null,
            "_view_module": "@jupyter-widgets/controls",
            "_view_module_version": "1.5.0",
            "_view_name": "HTMLView",
            "description": "",
            "description_tooltip": null,
            "layout": "IPY_MODEL_5ca808a8ce164ea7b54648559d56becf",
            "placeholder": "​",
            "style": "IPY_MODEL_8503fe44733c4ea58492cffc54dd6033",
            "value": " 60000/60000 [00:18&lt;00:00, 3558.60 examples/s]"
          }
        },
        "41fb2414c4fc4228a6407badf6ba76b1": {
          "model_module": "@jupyter-widgets/base",
          "model_name": "LayoutModel",
          "model_module_version": "1.2.0",
          "state": {
            "_model_module": "@jupyter-widgets/base",
            "_model_module_version": "1.2.0",
            "_model_name": "LayoutModel",
            "_view_count": null,
            "_view_module": "@jupyter-widgets/base",
            "_view_module_version": "1.2.0",
            "_view_name": "LayoutView",
            "align_content": null,
            "align_items": null,
            "align_self": null,
            "border": null,
            "bottom": null,
            "display": null,
            "flex": null,
            "flex_flow": null,
            "grid_area": null,
            "grid_auto_columns": null,
            "grid_auto_flow": null,
            "grid_auto_rows": null,
            "grid_column": null,
            "grid_gap": null,
            "grid_row": null,
            "grid_template_areas": null,
            "grid_template_columns": null,
            "grid_template_rows": null,
            "height": null,
            "justify_content": null,
            "justify_items": null,
            "left": null,
            "margin": null,
            "max_height": null,
            "max_width": null,
            "min_height": null,
            "min_width": null,
            "object_fit": null,
            "object_position": null,
            "order": null,
            "overflow": null,
            "overflow_x": null,
            "overflow_y": null,
            "padding": null,
            "right": null,
            "top": null,
            "visibility": null,
            "width": null
          }
        },
        "753d83757e4b492a9803ef572a19fa5e": {
          "model_module": "@jupyter-widgets/base",
          "model_name": "LayoutModel",
          "model_module_version": "1.2.0",
          "state": {
            "_model_module": "@jupyter-widgets/base",
            "_model_module_version": "1.2.0",
            "_model_name": "LayoutModel",
            "_view_count": null,
            "_view_module": "@jupyter-widgets/base",
            "_view_module_version": "1.2.0",
            "_view_name": "LayoutView",
            "align_content": null,
            "align_items": null,
            "align_self": null,
            "border": null,
            "bottom": null,
            "display": null,
            "flex": null,
            "flex_flow": null,
            "grid_area": null,
            "grid_auto_columns": null,
            "grid_auto_flow": null,
            "grid_auto_rows": null,
            "grid_column": null,
            "grid_gap": null,
            "grid_row": null,
            "grid_template_areas": null,
            "grid_template_columns": null,
            "grid_template_rows": null,
            "height": null,
            "justify_content": null,
            "justify_items": null,
            "left": null,
            "margin": null,
            "max_height": null,
            "max_width": null,
            "min_height": null,
            "min_width": null,
            "object_fit": null,
            "object_position": null,
            "order": null,
            "overflow": null,
            "overflow_x": null,
            "overflow_y": null,
            "padding": null,
            "right": null,
            "top": null,
            "visibility": null,
            "width": null
          }
        },
        "69e84feb418148739b612b6a69aab7b6": {
          "model_module": "@jupyter-widgets/controls",
          "model_name": "DescriptionStyleModel",
          "model_module_version": "1.5.0",
          "state": {
            "_model_module": "@jupyter-widgets/controls",
            "_model_module_version": "1.5.0",
            "_model_name": "DescriptionStyleModel",
            "_view_count": null,
            "_view_module": "@jupyter-widgets/base",
            "_view_module_version": "1.2.0",
            "_view_name": "StyleView",
            "description_width": ""
          }
        },
        "e8cb044f8bf44d2fba8c2e4373ef34d1": {
          "model_module": "@jupyter-widgets/base",
          "model_name": "LayoutModel",
          "model_module_version": "1.2.0",
          "state": {
            "_model_module": "@jupyter-widgets/base",
            "_model_module_version": "1.2.0",
            "_model_name": "LayoutModel",
            "_view_count": null,
            "_view_module": "@jupyter-widgets/base",
            "_view_module_version": "1.2.0",
            "_view_name": "LayoutView",
            "align_content": null,
            "align_items": null,
            "align_self": null,
            "border": null,
            "bottom": null,
            "display": null,
            "flex": null,
            "flex_flow": null,
            "grid_area": null,
            "grid_auto_columns": null,
            "grid_auto_flow": null,
            "grid_auto_rows": null,
            "grid_column": null,
            "grid_gap": null,
            "grid_row": null,
            "grid_template_areas": null,
            "grid_template_columns": null,
            "grid_template_rows": null,
            "height": null,
            "justify_content": null,
            "justify_items": null,
            "left": null,
            "margin": null,
            "max_height": null,
            "max_width": null,
            "min_height": null,
            "min_width": null,
            "object_fit": null,
            "object_position": null,
            "order": null,
            "overflow": null,
            "overflow_x": null,
            "overflow_y": null,
            "padding": null,
            "right": null,
            "top": null,
            "visibility": null,
            "width": null
          }
        },
        "24079fbee6d446c8b87059b27b37d634": {
          "model_module": "@jupyter-widgets/controls",
          "model_name": "ProgressStyleModel",
          "model_module_version": "1.5.0",
          "state": {
            "_model_module": "@jupyter-widgets/controls",
            "_model_module_version": "1.5.0",
            "_model_name": "ProgressStyleModel",
            "_view_count": null,
            "_view_module": "@jupyter-widgets/base",
            "_view_module_version": "1.2.0",
            "_view_name": "StyleView",
            "bar_color": null,
            "description_width": ""
          }
        },
        "5ca808a8ce164ea7b54648559d56becf": {
          "model_module": "@jupyter-widgets/base",
          "model_name": "LayoutModel",
          "model_module_version": "1.2.0",
          "state": {
            "_model_module": "@jupyter-widgets/base",
            "_model_module_version": "1.2.0",
            "_model_name": "LayoutModel",
            "_view_count": null,
            "_view_module": "@jupyter-widgets/base",
            "_view_module_version": "1.2.0",
            "_view_name": "LayoutView",
            "align_content": null,
            "align_items": null,
            "align_self": null,
            "border": null,
            "bottom": null,
            "display": null,
            "flex": null,
            "flex_flow": null,
            "grid_area": null,
            "grid_auto_columns": null,
            "grid_auto_flow": null,
            "grid_auto_rows": null,
            "grid_column": null,
            "grid_gap": null,
            "grid_row": null,
            "grid_template_areas": null,
            "grid_template_columns": null,
            "grid_template_rows": null,
            "height": null,
            "justify_content": null,
            "justify_items": null,
            "left": null,
            "margin": null,
            "max_height": null,
            "max_width": null,
            "min_height": null,
            "min_width": null,
            "object_fit": null,
            "object_position": null,
            "order": null,
            "overflow": null,
            "overflow_x": null,
            "overflow_y": null,
            "padding": null,
            "right": null,
            "top": null,
            "visibility": null,
            "width": null
          }
        },
        "8503fe44733c4ea58492cffc54dd6033": {
          "model_module": "@jupyter-widgets/controls",
          "model_name": "DescriptionStyleModel",
          "model_module_version": "1.5.0",
          "state": {
            "_model_module": "@jupyter-widgets/controls",
            "_model_module_version": "1.5.0",
            "_model_name": "DescriptionStyleModel",
            "_view_count": null,
            "_view_module": "@jupyter-widgets/base",
            "_view_module_version": "1.2.0",
            "_view_name": "StyleView",
            "description_width": ""
          }
        }
      }
    }
  },
  "cells": [
    {
      "cell_type": "code",
      "execution_count": null,
      "metadata": {
        "id": "iwNkiDCGeFC8",
        "colab": {
          "base_uri": "https://localhost:8080/"
        },
        "outputId": "49e0032f-d63d-46e8-d2c1-e07366808559"
      },
      "outputs": [
        {
          "output_type": "stream",
          "name": "stdout",
          "text": [
            "\u001b[2K     \u001b[90m━━━━━━━━━━━━━━━━━━━━━━━━━━━━━━━━━━━━━━━━\u001b[0m \u001b[32m7.9/7.9 MB\u001b[0m \u001b[31m19.0 MB/s\u001b[0m eta \u001b[36m0:00:00\u001b[0m\n",
            "\u001b[2K     \u001b[90m━━━━━━━━━━━━━━━━━━━━━━━━━━━━━━━━━━━━━━━━\u001b[0m \u001b[32m521.2/521.2 kB\u001b[0m \u001b[31m30.5 MB/s\u001b[0m eta \u001b[36m0:00:00\u001b[0m\n",
            "\u001b[2K     \u001b[90m━━━━━━━━━━━━━━━━━━━━━━━━━━━━━━━━━━━━━━━━\u001b[0m \u001b[32m311.7/311.7 kB\u001b[0m \u001b[31m28.0 MB/s\u001b[0m eta \u001b[36m0:00:00\u001b[0m\n",
            "\u001b[2K     \u001b[90m━━━━━━━━━━━━━━━━━━━━━━━━━━━━━━━━━━━━━━━━\u001b[0m \u001b[32m3.8/3.8 MB\u001b[0m \u001b[31m41.4 MB/s\u001b[0m eta \u001b[36m0:00:00\u001b[0m\n",
            "\u001b[2K     \u001b[90m━━━━━━━━━━━━━━━━━━━━━━━━━━━━━━━━━━━━━━━━\u001b[0m \u001b[32m1.3/1.3 MB\u001b[0m \u001b[31m46.2 MB/s\u001b[0m eta \u001b[36m0:00:00\u001b[0m\n",
            "\u001b[2K     \u001b[90m━━━━━━━━━━━━━━━━━━━━━━━━━━━━━━━━━━━━━━━━\u001b[0m \u001b[32m1.3/1.3 MB\u001b[0m \u001b[31m43.1 MB/s\u001b[0m eta \u001b[36m0:00:00\u001b[0m\n",
            "\u001b[2K     \u001b[90m━━━━━━━━━━━━━━━━━━━━━━━━━━━━━━━━━━━━━━━━\u001b[0m \u001b[32m115.3/115.3 kB\u001b[0m \u001b[31m14.4 MB/s\u001b[0m eta \u001b[36m0:00:00\u001b[0m\n",
            "\u001b[2K     \u001b[90m━━━━━━━━━━━━━━━━━━━━━━━━━━━━━━━━━━━━━━━━\u001b[0m \u001b[32m134.8/134.8 kB\u001b[0m \u001b[31m15.7 MB/s\u001b[0m eta \u001b[36m0:00:00\u001b[0m\n",
            "\u001b[?25h"
          ]
        }
      ],
      "source": [
        "! pip install transformers[sentencepiece] datasets nltk -q"
      ]
    },
    {
      "cell_type": "code",
      "source": [
        "import transformers\n",
        "from transformers import AutoTokenizer\n",
        "from transformers import TFAutoModelForSeq2SeqLM, DataCollatorForSeq2Seq\n",
        "from transformers import AutoTokenizer, TFAutoModelForSeq2SeqLM\n",
        "from transformers import AdamWeightDecay\n",
        "import tensorflow as tf"
      ],
      "metadata": {
        "id": "nBC505a8et2M"
      },
      "execution_count": null,
      "outputs": []
    },
    {
      "cell_type": "markdown",
      "source": [
        "# Converting Corpus Into Sentences"
      ],
      "metadata": {
        "id": "4diz4wggnkO1"
      }
    },
    {
      "cell_type": "code",
      "source": [
        "english_language_file = '/content/drive/MyDrive/NLP_Theory_DA/en-hi/train.en'\n",
        "hindi_language_file = '/content/drive/MyDrive/NLP_Theory_DA/en-hi/train.hi'\n",
        "with open(english_language_file, 'r') as file:\n",
        "    english = file.readlines()\n",
        "with open(hindi_language_file, 'r') as file:\n",
        "    hindi = file.readlines()"
      ],
      "metadata": {
        "id": "mb8dudGOet65"
      },
      "execution_count": null,
      "outputs": []
    },
    {
      "cell_type": "code",
      "source": [
        "english_sentences_train = english[:200000]\n",
        "hindi_sentences_train = hindi[:200000]\n",
        "english_sentences_test = english[200001:260001]\n",
        "hindi_sentences_test = hindi[200001:260001]\n",
        "english_sentences_val = english[260001:320001]\n",
        "hindi_sentences_val = hindi[260001:320001]\n",
        "english_sentences_train = [sentence.rstrip('\\n') for sentence in english_sentences_train]\n",
        "hindi_sentences_train = [sentence.rstrip('\\n') for sentence in hindi_sentences_train]\n",
        "english_sentences_test = [sentence.rstrip('\\n') for sentence in english_sentences_test]\n",
        "hindi_sentences_test = [sentence.rstrip('\\n') for sentence in hindi_sentences_test]\n",
        "english_sentences_val = [sentence.rstrip('\\n') for sentence in english_sentences_val]\n",
        "hindi_sentences_val = [sentence.rstrip('\\n') for sentence in hindi_sentences_val]"
      ],
      "metadata": {
        "id": "_U5L7TOwet_u"
      },
      "execution_count": null,
      "outputs": []
    },
    {
      "cell_type": "code",
      "source": [
        "english_sentences_train[:2]"
      ],
      "metadata": {
        "id": "yowiOH1MeuCN",
        "colab": {
          "base_uri": "https://localhost:8080/"
        },
        "outputId": "1e36ee3f-61e6-4631-c65f-afc5d8d583d4"
      },
      "execution_count": null,
      "outputs": [
        {
          "output_type": "execute_result",
          "data": {
            "text/plain": [
              "[\"However, Paes, who was partnering Australia's Paul Hanley, could only go as far as the quarterfinals where they lost to Bhupathi and Knowles\",\n",
              " 'Whosoever desires the reward of the world, with Allah is the reward of the world and of the Everlasting Life. Allah is the Hearer, the Seer.']"
            ]
          },
          "metadata": {},
          "execution_count": 26
        }
      ]
    },
    {
      "cell_type": "code",
      "source": [
        "hindi_sentences_train[:2]"
      ],
      "metadata": {
        "id": "gWBIKq1OeuEu",
        "colab": {
          "base_uri": "https://localhost:8080/"
        },
        "outputId": "3e9cb820-8d16-421d-b028-6369c787059a"
      },
      "execution_count": null,
      "outputs": [
        {
          "output_type": "execute_result",
          "data": {
            "text/plain": [
              "['आस्ट्रेलिया के पाल हेनली के साथ जोड़ी बनाने वाले पेस मियामी में क्वार्टरफाइनल तक ही पहुंच सके क्योंकि इस दौर में उन्हें भूपति और नोल्स ने हराया था।',\n",
              " 'और जो शख्स (अपने आमाल का) बदला दुनिया ही में चाहता है तो ख़ुदा के पास दुनिया व आख़िरत दोनों का अज्र मौजूद है और ख़ुदा तो हर शख्स की सुनता और सबको देखता है']"
            ]
          },
          "metadata": {},
          "execution_count": 27
        }
      ]
    },
    {
      "cell_type": "code",
      "source": [
        "english_sentences_test[:2]"
      ],
      "metadata": {
        "id": "dwwBMZtWpatc",
        "colab": {
          "base_uri": "https://localhost:8080/"
        },
        "outputId": "cb4f5153-a6bd-428b-929f-c85e012ba122"
      },
      "execution_count": null,
      "outputs": [
        {
          "output_type": "execute_result",
          "data": {
            "text/plain": [
              "['After all, why not?',\n",
              " 'The victim approached police and lodged complaint against the accused.']"
            ]
          },
          "metadata": {},
          "execution_count": 28
        }
      ]
    },
    {
      "cell_type": "code",
      "source": [
        "hindi_sentences_test[:2]"
      ],
      "metadata": {
        "id": "7kJ3XiBXpawH",
        "colab": {
          "base_uri": "https://localhost:8080/"
        },
        "outputId": "61ce08b2-ee3e-4cbb-b17c-200fe7f89bb1"
      },
      "execution_count": null,
      "outputs": [
        {
          "output_type": "execute_result",
          "data": {
            "text/plain": [
              "['आखिर हो भी न क्यों ?',\n",
              " 'फरियादी ने आरोपी के खिलाफ पुलिस में शिकायत दर्ज कराई।']"
            ]
          },
          "metadata": {},
          "execution_count": 29
        }
      ]
    },
    {
      "cell_type": "code",
      "source": [
        "english_sentences_val[:2]"
      ],
      "metadata": {
        "id": "AGFZl6_cpa2h",
        "colab": {
          "base_uri": "https://localhost:8080/"
        },
        "outputId": "e5a93e03-55e1-4dda-a405-2bf0e7afabd2"
      },
      "execution_count": null,
      "outputs": [
        {
          "output_type": "execute_result",
          "data": {
            "text/plain": [
              "['Center to Top',\n",
              " 'His thinking of a better future is immaculate in every field that the idea goes to the base and strengthens the roots.']"
            ]
          },
          "metadata": {},
          "execution_count": 30
        }
      ]
    },
    {
      "cell_type": "code",
      "source": [
        "hindi_sentences_val[:2]"
      ],
      "metadata": {
        "id": "6KBWJLrppa5X",
        "colab": {
          "base_uri": "https://localhost:8080/"
        },
        "outputId": "7c7463cc-9bb3-4b25-e05a-8c13ba65a1a7"
      },
      "execution_count": null,
      "outputs": [
        {
          "output_type": "execute_result",
          "data": {
            "text/plain": [
              "['बीच से ऊपर',\n",
              " 'बेहतर भविष्य की उनकी सोच हर क्षेत्र में बेदाग है कि यह विचार आधार पर जाता है और जड़ों को मजबूत करता है।']"
            ]
          },
          "metadata": {},
          "execution_count": 31
        }
      ]
    },
    {
      "cell_type": "markdown",
      "source": [
        "# Data-Preprocessing"
      ],
      "metadata": {
        "id": "B4bcLyn6nqNe"
      }
    },
    {
      "cell_type": "code",
      "source": [
        "sentence_tokenizer = AutoTokenizer.from_pretrained('Helsinki-NLP/opus-mt-en-hi')"
      ],
      "metadata": {
        "id": "f_SjJgBBeuHM"
      },
      "execution_count": null,
      "outputs": []
    },
    {
      "cell_type": "code",
      "source": [
        "train_data = {'translation': [{'en': l1, 'hi': l2} for l1, l2 in zip(english_sentences_train, hindi_sentences_train)]}\n",
        "test_data = {'translation': [{'en': l1, 'hi': l2} for l1, l2 in zip(english_sentences_test, hindi_sentences_test)]}\n",
        "val_data = {'translation': [{'en': l1, 'hi': l2} for l1, l2 in zip(english_sentences_val, hindi_sentences_val)]}"
      ],
      "metadata": {
        "id": "fOvF4rqWlTXF"
      },
      "execution_count": null,
      "outputs": []
    },
    {
      "cell_type": "code",
      "source": [
        "from datasets import Dataset\n",
        "train_data = Dataset.from_dict(train_data)\n",
        "test_data = Dataset.from_dict(test_data)\n",
        "val_data = Dataset.from_dict(val_data)"
      ],
      "metadata": {
        "id": "-XF_epZNmKUc"
      },
      "execution_count": null,
      "outputs": []
    },
    {
      "cell_type": "code",
      "source": [
        "print(train_data[:2])\n",
        "print(test_data[:2])\n",
        "print(val_data[:2])"
      ],
      "metadata": {
        "id": "eArS_QCbmloi",
        "colab": {
          "base_uri": "https://localhost:8080/"
        },
        "outputId": "648ad7f8-eb8b-47e0-8132-e7bf14a02695"
      },
      "execution_count": null,
      "outputs": [
        {
          "output_type": "stream",
          "name": "stdout",
          "text": [
            "{'translation': [{'en': \"However, Paes, who was partnering Australia's Paul Hanley, could only go as far as the quarterfinals where they lost to Bhupathi and Knowles\", 'hi': 'आस्ट्रेलिया के पाल हेनली के साथ जोड़ी बनाने वाले पेस मियामी में क्वार्टरफाइनल तक ही पहुंच सके क्योंकि इस दौर में उन्हें भूपति और नोल्स ने हराया था।'}, {'en': 'Whosoever desires the reward of the world, with Allah is the reward of the world and of the Everlasting Life. Allah is the Hearer, the Seer.', 'hi': 'और जो शख्स (अपने आमाल का) बदला दुनिया ही में चाहता है तो ख़ुदा के पास दुनिया व आख़िरत दोनों का अज्र मौजूद है और ख़ुदा तो हर शख्स की सुनता और सबको देखता है'}]}\n",
            "{'translation': [{'en': 'After all, why not?', 'hi': 'आखिर हो भी न क्यों ?'}, {'en': 'The victim approached police and lodged complaint against the accused.', 'hi': 'फरियादी ने आरोपी के खिलाफ पुलिस में शिकायत दर्ज कराई।'}]}\n",
            "{'translation': [{'en': 'Center to Top', 'hi': 'बीच से ऊपर'}, {'en': 'His thinking of a better future is immaculate in every field that the idea goes to the base and strengthens the roots.', 'hi': 'बेहतर भविष्य की उनकी सोच हर क्षेत्र में बेदाग है कि यह विचार आधार पर जाता है और जड़ों को मजबूत करता है।'}]}\n"
          ]
        }
      ]
    },
    {
      "cell_type": "code",
      "source": [
        "def preprocessing(examples):\n",
        "    inputs = [ex['en'] for ex in examples[\"translation\"]]\n",
        "    targets = [ex['hi'] for ex in examples[\"translation\"]]\n",
        "    model_inputs = sentence_tokenizer(inputs, max_length = 128, truncation = True)\n",
        "\n",
        "    with sentence_tokenizer.as_target_tokenizer():\n",
        "        labels = sentence_tokenizer(targets, max_length = 128, truncation = True)\n",
        "\n",
        "    model_inputs[\"labels\"] = labels[\"input_ids\"]\n",
        "    return model_inputs"
      ],
      "metadata": {
        "id": "F8e9nONfeuJo"
      },
      "execution_count": null,
      "outputs": []
    },
    {
      "cell_type": "code",
      "source": [
        "train_tokens = train_data.map(preprocessing, batched=True)\n",
        "test_tokens = test_data.map(preprocessing, batched=True)\n",
        "val_tokens = val_data.map(preprocessing, batched=True)"
      ],
      "metadata": {
        "id": "UCSURNSteuTe",
        "colab": {
          "base_uri": "https://localhost:8080/",
          "height": 168,
          "referenced_widgets": [
            "2e59f1d868784412b22f7d9eca9ca073",
            "37d2599ab4b84226bb1b7411bebeb797",
            "cf278aed6c634e3f914375dc30a7cc89",
            "3d10b3eba26a4f7aaf528d6b3539cba8",
            "39aa3adb8817434ea0841a4ca467d27a",
            "a8ad622c4b924156a9249647dc1e4b7b",
            "71450785489d47ec8383eaf99fe0b8c2",
            "e322471927104bb7b4656fe3420fb2a5",
            "85fc6bf740aa4eb597a3e10b3c60bfa8",
            "3e5b0a5a40594ff6bbe9ba83b8460600",
            "408f3b8f4eb74ffcb05feed3bb0b9f0c",
            "379b854f39b84d8bad86a1c3d75fdd0b",
            "443d5b5e28d24f24946479e613ed2e1f",
            "b022eb9062c54211a47142083764d81c",
            "179b20821ed04e6bb6fa7f06b7e2a8f1",
            "eb3a3447c5d94936a7dfee59373ced9d",
            "4a5fbe8b4586439baf2a74f114a25236",
            "c35644ea09f1416583ed3d23068201a7",
            "f6554331c3a64d4087c968dd46749d6d",
            "694db449021a4422b3a107d34b581a3f",
            "d00ccc6f5eb94b1dbc156a728ab2aabd",
            "8ee223973f494d8bb09872148f68c2ef",
            "5ed3a597c5eb451896af5e8714a5890b",
            "a4a60b3876b94ae7874badd0984b216a",
            "16df24a196e04a2891d764fa210e459d",
            "9ae5b255e98c46508cfec8b24f8f4d18",
            "41fb2414c4fc4228a6407badf6ba76b1",
            "753d83757e4b492a9803ef572a19fa5e",
            "69e84feb418148739b612b6a69aab7b6",
            "e8cb044f8bf44d2fba8c2e4373ef34d1",
            "24079fbee6d446c8b87059b27b37d634",
            "5ca808a8ce164ea7b54648559d56becf",
            "8503fe44733c4ea58492cffc54dd6033"
          ]
        },
        "outputId": "cb0226f7-b827-4887-b53e-c5864e3e4d43"
      },
      "execution_count": null,
      "outputs": [
        {
          "output_type": "display_data",
          "data": {
            "text/plain": [
              "Map:   0%|          | 0/200000 [00:00<?, ? examples/s]"
            ],
            "application/vnd.jupyter.widget-view+json": {
              "version_major": 2,
              "version_minor": 0,
              "model_id": "2e59f1d868784412b22f7d9eca9ca073"
            }
          },
          "metadata": {}
        },
        {
          "output_type": "stream",
          "name": "stderr",
          "text": [
            "/usr/local/lib/python3.10/dist-packages/transformers/tokenization_utils_base.py:3856: UserWarning: `as_target_tokenizer` is deprecated and will be removed in v5 of Transformers. You can tokenize your labels by using the argument `text_target` of the regular `__call__` method (either in the same call as your input texts if you use the same keyword arguments, or in a separate call.\n",
            "  warnings.warn(\n"
          ]
        },
        {
          "output_type": "display_data",
          "data": {
            "text/plain": [
              "Map:   0%|          | 0/60000 [00:00<?, ? examples/s]"
            ],
            "application/vnd.jupyter.widget-view+json": {
              "version_major": 2,
              "version_minor": 0,
              "model_id": "379b854f39b84d8bad86a1c3d75fdd0b"
            }
          },
          "metadata": {}
        },
        {
          "output_type": "display_data",
          "data": {
            "text/plain": [
              "Map:   0%|          | 0/60000 [00:00<?, ? examples/s]"
            ],
            "application/vnd.jupyter.widget-view+json": {
              "version_major": 2,
              "version_minor": 0,
              "model_id": "5ed3a597c5eb451896af5e8714a5890b"
            }
          },
          "metadata": {}
        }
      ]
    },
    {
      "cell_type": "markdown",
      "source": [
        "# Model Building"
      ],
      "metadata": {
        "id": "-J5U_EtYnuQp"
      }
    },
    {
      "cell_type": "code",
      "source": [
        "transformer = TFAutoModelForSeq2SeqLM.from_pretrained('Helsinki-NLP/opus-mt-en-hi')"
      ],
      "metadata": {
        "id": "VwjZ6Tp5euV5",
        "colab": {
          "base_uri": "https://localhost:8080/"
        },
        "outputId": "c92d83f2-f214-4d7f-da36-a55d2d6de30c"
      },
      "execution_count": null,
      "outputs": [
        {
          "output_type": "stream",
          "name": "stderr",
          "text": [
            "All model checkpoint layers were used when initializing TFMarianMTModel.\n",
            "\n",
            "All the layers of TFMarianMTModel were initialized from the model checkpoint at Helsinki-NLP/opus-mt-en-hi.\n",
            "If your task is similar to the task the model of the checkpoint was trained on, you can already use TFMarianMTModel for predictions without further training.\n"
          ]
        }
      ]
    },
    {
      "cell_type": "code",
      "source": [
        "batch = 32\n",
        "lr = 2e-5\n",
        "wd = 0.01\n",
        "epochs = 10\n",
        "dc = DataCollatorForSeq2Seq(sentence_tokenizer, model = transformer, return_tensors = \"tf\")\n",
        "gdc = DataCollatorForSeq2Seq(sentence_tokenizer, model=transformer, return_tensors = \"tf\", pad_to_multiple_of = 128)"
      ],
      "metadata": {
        "id": "0_ZyxUW_eucw"
      },
      "execution_count": null,
      "outputs": []
    },
    {
      "cell_type": "code",
      "source": [
        "train_dataset = transformer.prepare_tf_dataset(\n",
        "    test_tokens,\n",
        "    batch_size = batch,\n",
        "    shuffle = True,\n",
        "    collate_fn = dc,\n",
        ")"
      ],
      "metadata": {
        "id": "1N6EBto3eukI"
      },
      "execution_count": null,
      "outputs": []
    },
    {
      "cell_type": "code",
      "source": [
        "validation_dataset = transformer.prepare_tf_dataset(\n",
        "    val_tokens,\n",
        "    batch_size = batch,\n",
        "    shuffle = False,\n",
        "    collate_fn = dc,\n",
        ")"
      ],
      "metadata": {
        "id": "Qzld14sReuoo"
      },
      "execution_count": null,
      "outputs": []
    },
    {
      "cell_type": "code",
      "source": [
        "generation_dataset = transformer.prepare_tf_dataset(\n",
        "    val_tokens,\n",
        "    batch_size = 8,\n",
        "    shuffle = False,\n",
        "    collate_fn = gdc,\n",
        ")"
      ],
      "metadata": {
        "id": "W216DC38eHxM"
      },
      "execution_count": null,
      "outputs": []
    },
    {
      "cell_type": "code",
      "source": [
        "adam_optimizer = AdamWeightDecay(learning_rate = lr, weight_decay_rate = wd)\n",
        "transformer.compile(optimizer = adam_optimizer)"
      ],
      "metadata": {
        "id": "fB3efCA4eHzx"
      },
      "execution_count": null,
      "outputs": []
    },
    {
      "cell_type": "markdown",
      "source": [
        "# Model Training"
      ],
      "metadata": {
        "id": "hWT4H9Mcnypt"
      }
    },
    {
      "cell_type": "code",
      "source": [
        "transformer.fit(train_dataset, validation_data = validation_dataset, epochs = epochs)"
      ],
      "metadata": {
        "id": "8GkUZ25JeH2a",
        "colab": {
          "base_uri": "https://localhost:8080/"
        },
        "outputId": "469d0e38-062e-4b96-b084-9daac02ef969"
      },
      "execution_count": null,
      "outputs": [
        {
          "output_type": "stream",
          "name": "stdout",
          "text": [
            "Epoch 1/10\n",
            "937/937 [==============================] - 879s 908ms/step - loss: 3.8364 - val_loss: 3.4298\n",
            "Epoch 2/10\n",
            "937/937 [==============================] - 837s 894ms/step - loss: 3.3787 - val_loss: 3.2610\n",
            "Epoch 3/10\n",
            "937/937 [==============================] - 838s 894ms/step - loss: 3.1237 - val_loss: 3.1500\n",
            "Epoch 4/10\n",
            "937/937 [==============================] - 826s 882ms/step - loss: 2.9252 - val_loss: 3.0822\n",
            "Epoch 5/10\n",
            "937/937 [==============================] - 816s 871ms/step - loss: 2.7556 - val_loss: 3.0325\n",
            "Epoch 6/10\n",
            "937/937 [==============================] - 819s 875ms/step - loss: 2.6133 - val_loss: 3.0029\n",
            "Epoch 7/10\n",
            "937/937 [==============================] - 834s 890ms/step - loss: 2.4816 - val_loss: 2.9802\n",
            "Epoch 8/10\n",
            "937/937 [==============================] - 838s 894ms/step - loss: 2.3618 - val_loss: 2.9601\n",
            "Epoch 9/10\n",
            "937/937 [==============================] - 831s 888ms/step - loss: 2.2537 - val_loss: 2.9470\n",
            "Epoch 10/10\n",
            "937/937 [==============================] - 839s 896ms/step - loss: 2.1544 - val_loss: 2.9444\n"
          ]
        },
        {
          "output_type": "execute_result",
          "data": {
            "text/plain": [
              "<keras.src.callbacks.History at 0x7fd0627bc580>"
            ]
          },
          "metadata": {},
          "execution_count": 44
        }
      ]
    },
    {
      "cell_type": "markdown",
      "source": [
        "# Results"
      ],
      "metadata": {
        "id": "IPdPqud-n2CD"
      }
    },
    {
      "cell_type": "code",
      "source": [
        "input_text  = \"His name is Arun.\"\n",
        "tokenized = sentence_tokenizer([input_text], return_tensors = 'np')\n",
        "out = transformer.generate(**tokenized, max_length = 128)\n",
        "res = ''\n",
        "with sentence_tokenizer.as_target_tokenizer():\n",
        "    res = sentence_tokenizer.decode(out[0], skip_special_tokens = True)\n",
        "    print(sentence_tokenizer.decode(out[0], skip_special_tokens = True))"
      ],
      "metadata": {
        "id": "Nmoj9cPveH7I",
        "colab": {
          "base_uri": "https://localhost:8080/"
        },
        "outputId": "705cbd1f-804a-4b40-af2b-6cb7b1c717fc"
      },
      "execution_count": null,
      "outputs": [
        {
          "output_type": "stream",
          "name": "stdout",
          "text": [
            "उसका नाम अरुण है।\n"
          ]
        }
      ]
    },
    {
      "cell_type": "markdown",
      "source": [
        "# Evaluation Metrics"
      ],
      "metadata": {
        "id": "IzgivcdYn5IH"
      }
    },
    {
      "cell_type": "code",
      "source": [
        "from nltk.translate.bleu_score import sentence_bleu\n",
        "ref = ['उसका नाम अरुण है।'.split()]\n",
        "candi = res.split()\n",
        "print('BLEU score -> {}'.format(sentence_bleu(ref, candi)))"
      ],
      "metadata": {
        "id": "SrZ3XW2_wIpU",
        "colab": {
          "base_uri": "https://localhost:8080/"
        },
        "outputId": "076cfedd-2f17-47c4-d188-a945d414b9b5"
      },
      "execution_count": null,
      "outputs": [
        {
          "output_type": "stream",
          "name": "stdout",
          "text": [
            "BLEU score -> 1.0\n"
          ]
        }
      ]
    }
  ]
}
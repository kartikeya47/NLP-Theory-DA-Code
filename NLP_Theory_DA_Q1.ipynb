{
  "cells": [
    {
      "cell_type": "code",
      "execution_count": 2,
      "id": "4b7c4b03",
      "metadata": {
        "id": "4b7c4b03",
        "colab": {
          "base_uri": "https://localhost:8080/"
        },
        "outputId": "485436f6-ce88-493e-c46c-2e825795f1e5"
      },
      "outputs": [
        {
          "output_type": "stream",
          "name": "stdout",
          "text": [
            "Requirement already satisfied: nltk in /usr/local/lib/python3.10/dist-packages (3.8.1)\n",
            "Requirement already satisfied: click in /usr/local/lib/python3.10/dist-packages (from nltk) (8.1.7)\n",
            "Requirement already satisfied: joblib in /usr/local/lib/python3.10/dist-packages (from nltk) (1.3.2)\n",
            "Requirement already satisfied: regex>=2021.8.3 in /usr/local/lib/python3.10/dist-packages (from nltk) (2023.6.3)\n",
            "Requirement already satisfied: tqdm in /usr/local/lib/python3.10/dist-packages (from nltk) (4.66.1)\n",
            "Requirement already satisfied: scikit-learn in /usr/local/lib/python3.10/dist-packages (1.2.2)\n",
            "Requirement already satisfied: numpy>=1.17.3 in /usr/local/lib/python3.10/dist-packages (from scikit-learn) (1.23.5)\n",
            "Requirement already satisfied: scipy>=1.3.2 in /usr/local/lib/python3.10/dist-packages (from scikit-learn) (1.11.3)\n",
            "Requirement already satisfied: joblib>=1.1.1 in /usr/local/lib/python3.10/dist-packages (from scikit-learn) (1.3.2)\n",
            "Requirement already satisfied: threadpoolctl>=2.0.0 in /usr/local/lib/python3.10/dist-packages (from scikit-learn) (3.2.0)\n"
          ]
        }
      ],
      "source": [
        "! pip install nltk\n",
        "! pip install scikit-learn"
      ]
    },
    {
      "cell_type": "code",
      "source": [
        "import numpy as np\n",
        "import pandas as pd"
      ],
      "metadata": {
        "id": "1yP7rDAxauwY"
      },
      "id": "1yP7rDAxauwY",
      "execution_count": 3,
      "outputs": []
    },
    {
      "cell_type": "code",
      "execution_count": 50,
      "id": "7fbcbd0a",
      "metadata": {
        "id": "7fbcbd0a"
      },
      "outputs": [],
      "source": [
        "sentiment_data = pd.read_csv('/content/drive/MyDrive/NLP_Theory_DA/SentimentAnalysisDataset.csv', on_bad_lines='skip')"
      ]
    },
    {
      "cell_type": "code",
      "execution_count": 5,
      "id": "d8454d2e",
      "metadata": {
        "colab": {
          "base_uri": "https://localhost:8080/",
          "height": 206
        },
        "id": "d8454d2e",
        "outputId": "fc127dd8-79bf-4b55-891f-b830e1189243"
      },
      "outputs": [
        {
          "output_type": "execute_result",
          "data": {
            "text/plain": [
              "   ItemID  Sentiment SentimentSource  \\\n",
              "0       1          0    Sentiment140   \n",
              "1       2          0    Sentiment140   \n",
              "2       3          1    Sentiment140   \n",
              "3       4          0    Sentiment140   \n",
              "4       5          0    Sentiment140   \n",
              "\n",
              "                                       SentimentText  \n",
              "0                       is so sad for my APL frie...  \n",
              "1                     I missed the New Moon trail...  \n",
              "2                            omg its already 7:30 :O  \n",
              "3            .. Omgaga. Im sooo  im gunna CRy. I'...  \n",
              "4           i think mi bf is cheating on me!!!   ...  "
            ],
            "text/html": [
              "\n",
              "  <div id=\"df-7ecac0cd-1213-4197-add3-aa19dbb7ba6f\" class=\"colab-df-container\">\n",
              "    <div>\n",
              "<style scoped>\n",
              "    .dataframe tbody tr th:only-of-type {\n",
              "        vertical-align: middle;\n",
              "    }\n",
              "\n",
              "    .dataframe tbody tr th {\n",
              "        vertical-align: top;\n",
              "    }\n",
              "\n",
              "    .dataframe thead th {\n",
              "        text-align: right;\n",
              "    }\n",
              "</style>\n",
              "<table border=\"1\" class=\"dataframe\">\n",
              "  <thead>\n",
              "    <tr style=\"text-align: right;\">\n",
              "      <th></th>\n",
              "      <th>ItemID</th>\n",
              "      <th>Sentiment</th>\n",
              "      <th>SentimentSource</th>\n",
              "      <th>SentimentText</th>\n",
              "    </tr>\n",
              "  </thead>\n",
              "  <tbody>\n",
              "    <tr>\n",
              "      <th>0</th>\n",
              "      <td>1</td>\n",
              "      <td>0</td>\n",
              "      <td>Sentiment140</td>\n",
              "      <td>is so sad for my APL frie...</td>\n",
              "    </tr>\n",
              "    <tr>\n",
              "      <th>1</th>\n",
              "      <td>2</td>\n",
              "      <td>0</td>\n",
              "      <td>Sentiment140</td>\n",
              "      <td>I missed the New Moon trail...</td>\n",
              "    </tr>\n",
              "    <tr>\n",
              "      <th>2</th>\n",
              "      <td>3</td>\n",
              "      <td>1</td>\n",
              "      <td>Sentiment140</td>\n",
              "      <td>omg its already 7:30 :O</td>\n",
              "    </tr>\n",
              "    <tr>\n",
              "      <th>3</th>\n",
              "      <td>4</td>\n",
              "      <td>0</td>\n",
              "      <td>Sentiment140</td>\n",
              "      <td>.. Omgaga. Im sooo  im gunna CRy. I'...</td>\n",
              "    </tr>\n",
              "    <tr>\n",
              "      <th>4</th>\n",
              "      <td>5</td>\n",
              "      <td>0</td>\n",
              "      <td>Sentiment140</td>\n",
              "      <td>i think mi bf is cheating on me!!!   ...</td>\n",
              "    </tr>\n",
              "  </tbody>\n",
              "</table>\n",
              "</div>\n",
              "    <div class=\"colab-df-buttons\">\n",
              "\n",
              "  <div class=\"colab-df-container\">\n",
              "    <button class=\"colab-df-convert\" onclick=\"convertToInteractive('df-7ecac0cd-1213-4197-add3-aa19dbb7ba6f')\"\n",
              "            title=\"Convert this dataframe to an interactive table.\"\n",
              "            style=\"display:none;\">\n",
              "\n",
              "  <svg xmlns=\"http://www.w3.org/2000/svg\" height=\"24px\" viewBox=\"0 -960 960 960\">\n",
              "    <path d=\"M120-120v-720h720v720H120Zm60-500h600v-160H180v160Zm220 220h160v-160H400v160Zm0 220h160v-160H400v160ZM180-400h160v-160H180v160Zm440 0h160v-160H620v160ZM180-180h160v-160H180v160Zm440 0h160v-160H620v160Z\"/>\n",
              "  </svg>\n",
              "    </button>\n",
              "\n",
              "  <style>\n",
              "    .colab-df-container {\n",
              "      display:flex;\n",
              "      gap: 12px;\n",
              "    }\n",
              "\n",
              "    .colab-df-convert {\n",
              "      background-color: #E8F0FE;\n",
              "      border: none;\n",
              "      border-radius: 50%;\n",
              "      cursor: pointer;\n",
              "      display: none;\n",
              "      fill: #1967D2;\n",
              "      height: 32px;\n",
              "      padding: 0 0 0 0;\n",
              "      width: 32px;\n",
              "    }\n",
              "\n",
              "    .colab-df-convert:hover {\n",
              "      background-color: #E2EBFA;\n",
              "      box-shadow: 0px 1px 2px rgba(60, 64, 67, 0.3), 0px 1px 3px 1px rgba(60, 64, 67, 0.15);\n",
              "      fill: #174EA6;\n",
              "    }\n",
              "\n",
              "    .colab-df-buttons div {\n",
              "      margin-bottom: 4px;\n",
              "    }\n",
              "\n",
              "    [theme=dark] .colab-df-convert {\n",
              "      background-color: #3B4455;\n",
              "      fill: #D2E3FC;\n",
              "    }\n",
              "\n",
              "    [theme=dark] .colab-df-convert:hover {\n",
              "      background-color: #434B5C;\n",
              "      box-shadow: 0px 1px 3px 1px rgba(0, 0, 0, 0.15);\n",
              "      filter: drop-shadow(0px 1px 2px rgba(0, 0, 0, 0.3));\n",
              "      fill: #FFFFFF;\n",
              "    }\n",
              "  </style>\n",
              "\n",
              "    <script>\n",
              "      const buttonEl =\n",
              "        document.querySelector('#df-7ecac0cd-1213-4197-add3-aa19dbb7ba6f button.colab-df-convert');\n",
              "      buttonEl.style.display =\n",
              "        google.colab.kernel.accessAllowed ? 'block' : 'none';\n",
              "\n",
              "      async function convertToInteractive(key) {\n",
              "        const element = document.querySelector('#df-7ecac0cd-1213-4197-add3-aa19dbb7ba6f');\n",
              "        const dataTable =\n",
              "          await google.colab.kernel.invokeFunction('convertToInteractive',\n",
              "                                                    [key], {});\n",
              "        if (!dataTable) return;\n",
              "\n",
              "        const docLinkHtml = 'Like what you see? Visit the ' +\n",
              "          '<a target=\"_blank\" href=https://colab.research.google.com/notebooks/data_table.ipynb>data table notebook</a>'\n",
              "          + ' to learn more about interactive tables.';\n",
              "        element.innerHTML = '';\n",
              "        dataTable['output_type'] = 'display_data';\n",
              "        await google.colab.output.renderOutput(dataTable, element);\n",
              "        const docLink = document.createElement('div');\n",
              "        docLink.innerHTML = docLinkHtml;\n",
              "        element.appendChild(docLink);\n",
              "      }\n",
              "    </script>\n",
              "  </div>\n",
              "\n",
              "\n",
              "<div id=\"df-3e0d0180-1107-4629-ab84-3b5ea399f9e1\">\n",
              "  <button class=\"colab-df-quickchart\" onclick=\"quickchart('df-3e0d0180-1107-4629-ab84-3b5ea399f9e1')\"\n",
              "            title=\"Suggest charts\"\n",
              "            style=\"display:none;\">\n",
              "\n",
              "<svg xmlns=\"http://www.w3.org/2000/svg\" height=\"24px\"viewBox=\"0 0 24 24\"\n",
              "     width=\"24px\">\n",
              "    <g>\n",
              "        <path d=\"M19 3H5c-1.1 0-2 .9-2 2v14c0 1.1.9 2 2 2h14c1.1 0 2-.9 2-2V5c0-1.1-.9-2-2-2zM9 17H7v-7h2v7zm4 0h-2V7h2v10zm4 0h-2v-4h2v4z\"/>\n",
              "    </g>\n",
              "</svg>\n",
              "  </button>\n",
              "\n",
              "<style>\n",
              "  .colab-df-quickchart {\n",
              "      --bg-color: #E8F0FE;\n",
              "      --fill-color: #1967D2;\n",
              "      --hover-bg-color: #E2EBFA;\n",
              "      --hover-fill-color: #174EA6;\n",
              "      --disabled-fill-color: #AAA;\n",
              "      --disabled-bg-color: #DDD;\n",
              "  }\n",
              "\n",
              "  [theme=dark] .colab-df-quickchart {\n",
              "      --bg-color: #3B4455;\n",
              "      --fill-color: #D2E3FC;\n",
              "      --hover-bg-color: #434B5C;\n",
              "      --hover-fill-color: #FFFFFF;\n",
              "      --disabled-bg-color: #3B4455;\n",
              "      --disabled-fill-color: #666;\n",
              "  }\n",
              "\n",
              "  .colab-df-quickchart {\n",
              "    background-color: var(--bg-color);\n",
              "    border: none;\n",
              "    border-radius: 50%;\n",
              "    cursor: pointer;\n",
              "    display: none;\n",
              "    fill: var(--fill-color);\n",
              "    height: 32px;\n",
              "    padding: 0;\n",
              "    width: 32px;\n",
              "  }\n",
              "\n",
              "  .colab-df-quickchart:hover {\n",
              "    background-color: var(--hover-bg-color);\n",
              "    box-shadow: 0 1px 2px rgba(60, 64, 67, 0.3), 0 1px 3px 1px rgba(60, 64, 67, 0.15);\n",
              "    fill: var(--button-hover-fill-color);\n",
              "  }\n",
              "\n",
              "  .colab-df-quickchart-complete:disabled,\n",
              "  .colab-df-quickchart-complete:disabled:hover {\n",
              "    background-color: var(--disabled-bg-color);\n",
              "    fill: var(--disabled-fill-color);\n",
              "    box-shadow: none;\n",
              "  }\n",
              "\n",
              "  .colab-df-spinner {\n",
              "    border: 2px solid var(--fill-color);\n",
              "    border-color: transparent;\n",
              "    border-bottom-color: var(--fill-color);\n",
              "    animation:\n",
              "      spin 1s steps(1) infinite;\n",
              "  }\n",
              "\n",
              "  @keyframes spin {\n",
              "    0% {\n",
              "      border-color: transparent;\n",
              "      border-bottom-color: var(--fill-color);\n",
              "      border-left-color: var(--fill-color);\n",
              "    }\n",
              "    20% {\n",
              "      border-color: transparent;\n",
              "      border-left-color: var(--fill-color);\n",
              "      border-top-color: var(--fill-color);\n",
              "    }\n",
              "    30% {\n",
              "      border-color: transparent;\n",
              "      border-left-color: var(--fill-color);\n",
              "      border-top-color: var(--fill-color);\n",
              "      border-right-color: var(--fill-color);\n",
              "    }\n",
              "    40% {\n",
              "      border-color: transparent;\n",
              "      border-right-color: var(--fill-color);\n",
              "      border-top-color: var(--fill-color);\n",
              "    }\n",
              "    60% {\n",
              "      border-color: transparent;\n",
              "      border-right-color: var(--fill-color);\n",
              "    }\n",
              "    80% {\n",
              "      border-color: transparent;\n",
              "      border-right-color: var(--fill-color);\n",
              "      border-bottom-color: var(--fill-color);\n",
              "    }\n",
              "    90% {\n",
              "      border-color: transparent;\n",
              "      border-bottom-color: var(--fill-color);\n",
              "    }\n",
              "  }\n",
              "</style>\n",
              "\n",
              "  <script>\n",
              "    async function quickchart(key) {\n",
              "      const quickchartButtonEl =\n",
              "        document.querySelector('#' + key + ' button');\n",
              "      quickchartButtonEl.disabled = true;  // To prevent multiple clicks.\n",
              "      quickchartButtonEl.classList.add('colab-df-spinner');\n",
              "      try {\n",
              "        const charts = await google.colab.kernel.invokeFunction(\n",
              "            'suggestCharts', [key], {});\n",
              "      } catch (error) {\n",
              "        console.error('Error during call to suggestCharts:', error);\n",
              "      }\n",
              "      quickchartButtonEl.classList.remove('colab-df-spinner');\n",
              "      quickchartButtonEl.classList.add('colab-df-quickchart-complete');\n",
              "    }\n",
              "    (() => {\n",
              "      let quickchartButtonEl =\n",
              "        document.querySelector('#df-3e0d0180-1107-4629-ab84-3b5ea399f9e1 button');\n",
              "      quickchartButtonEl.style.display =\n",
              "        google.colab.kernel.accessAllowed ? 'block' : 'none';\n",
              "    })();\n",
              "  </script>\n",
              "</div>\n",
              "    </div>\n",
              "  </div>\n"
            ]
          },
          "metadata": {},
          "execution_count": 5
        }
      ],
      "source": [
        "sentiment_data.head()"
      ]
    },
    {
      "cell_type": "code",
      "execution_count": 6,
      "id": "47ee3a61",
      "metadata": {
        "colab": {
          "base_uri": "https://localhost:8080/"
        },
        "id": "47ee3a61",
        "outputId": "642372bc-a6d4-443a-f77b-dda7155b0896"
      },
      "outputs": [
        {
          "output_type": "execute_result",
          "data": {
            "text/plain": [
              "1578612"
            ]
          },
          "metadata": {},
          "execution_count": 6
        }
      ],
      "source": [
        "len(sentiment_data)"
      ]
    },
    {
      "cell_type": "code",
      "execution_count": 75,
      "id": "64c12493",
      "metadata": {
        "id": "64c12493"
      },
      "outputs": [],
      "source": [
        "from sklearn.metrics import accuracy_score, classification_report, confusion_matrix\n",
        "from sklearn.model_selection import train_test_split\n",
        "from sklearn.feature_extraction.text import TfidfVectorizer\n",
        "from sklearn.naive_bayes import MultinomialNB\n",
        "from nltk.tokenize import WordPunctTokenizer\n",
        "from nltk.corpus import stopwords\n",
        "import nltk"
      ]
    },
    {
      "cell_type": "code",
      "execution_count": 10,
      "id": "613fbe1d",
      "metadata": {
        "colab": {
          "base_uri": "https://localhost:8080/"
        },
        "id": "613fbe1d",
        "outputId": "8803683f-25bc-47f3-e1d7-0205fcadb3dc"
      },
      "outputs": [
        {
          "output_type": "stream",
          "name": "stderr",
          "text": [
            "[nltk_data] Downloading package stopwords to /root/nltk_data...\n",
            "[nltk_data]   Unzipping corpora/stopwords.zip.\n"
          ]
        },
        {
          "output_type": "execute_result",
          "data": {
            "text/plain": [
              "True"
            ]
          },
          "metadata": {},
          "execution_count": 10
        }
      ],
      "source": [
        "nltk.download('stopwords')"
      ]
    },
    {
      "cell_type": "code",
      "execution_count": 11,
      "id": "3adb8f88",
      "metadata": {
        "id": "3adb8f88"
      },
      "outputs": [],
      "source": [
        "X = sentiment_data['SentimentText']\n",
        "y = sentiment_data['Sentiment']"
      ]
    },
    {
      "cell_type": "markdown",
      "id": "4c103fe2",
      "metadata": {
        "id": "4c103fe2"
      },
      "source": [
        "# Train-Test Split"
      ]
    },
    {
      "cell_type": "code",
      "execution_count": 12,
      "id": "5d193afe",
      "metadata": {
        "id": "5d193afe"
      },
      "outputs": [],
      "source": [
        "X_train, X_test, y_train, y_test = train_test_split(X, y, test_size = 0.3, random_state = 32)"
      ]
    },
    {
      "cell_type": "markdown",
      "id": "5effabec",
      "metadata": {
        "id": "5effabec"
      },
      "source": [
        "# Data Pre-Processing (Removing Stop Words, and Vectorization of Data)"
      ]
    },
    {
      "cell_type": "code",
      "execution_count": 13,
      "id": "4017410b",
      "metadata": {
        "id": "4017410b"
      },
      "outputs": [],
      "source": [
        "sw = set(stopwords.words('english'))"
      ]
    },
    {
      "cell_type": "code",
      "execution_count": 14,
      "id": "154854d0",
      "metadata": {
        "id": "154854d0"
      },
      "outputs": [],
      "source": [
        "tokenize = WordPunctTokenizer()"
      ]
    },
    {
      "cell_type": "code",
      "execution_count": 15,
      "id": "f2f5ba7b",
      "metadata": {
        "id": "f2f5ba7b"
      },
      "outputs": [],
      "source": [
        "def formatting_textual_details(text):\n",
        "    wd = tokenize.tokenize(text)\n",
        "    wd = [w.lower() for w in wd if w.isalpha() and w.lower() not in sw]\n",
        "    return ' '.join(wd)"
      ]
    },
    {
      "cell_type": "code",
      "execution_count": 20,
      "id": "a8a93dd2",
      "metadata": {
        "id": "a8a93dd2"
      },
      "outputs": [],
      "source": [
        "X_train = X_train.apply(formatting_textual_details)\n",
        "X_test = X_test.apply(formatting_textual_details)"
      ]
    },
    {
      "cell_type": "code",
      "execution_count": 21,
      "id": "b7ecfab9",
      "metadata": {
        "id": "b7ecfab9"
      },
      "outputs": [],
      "source": [
        "vectorize = TfidfVectorizer()\n",
        "X_train_vectorized = vectorize.fit_transform(X_train)\n",
        "X_test_vectorized = vectorize.transform(X_test)"
      ]
    },
    {
      "cell_type": "markdown",
      "id": "a30a8b27",
      "metadata": {
        "id": "a30a8b27"
      },
      "source": [
        "# Naive Bayes Classifier"
      ]
    },
    {
      "cell_type": "code",
      "execution_count": 22,
      "id": "841b484d",
      "metadata": {
        "colab": {
          "base_uri": "https://localhost:8080/",
          "height": 74
        },
        "id": "841b484d",
        "outputId": "44a0d88f-a6d8-47ed-d29f-e79e2156586a"
      },
      "outputs": [
        {
          "output_type": "execute_result",
          "data": {
            "text/plain": [
              "MultinomialNB()"
            ],
            "text/html": [
              "<style>#sk-container-id-2 {color: black;background-color: white;}#sk-container-id-2 pre{padding: 0;}#sk-container-id-2 div.sk-toggleable {background-color: white;}#sk-container-id-2 label.sk-toggleable__label {cursor: pointer;display: block;width: 100%;margin-bottom: 0;padding: 0.3em;box-sizing: border-box;text-align: center;}#sk-container-id-2 label.sk-toggleable__label-arrow:before {content: \"▸\";float: left;margin-right: 0.25em;color: #696969;}#sk-container-id-2 label.sk-toggleable__label-arrow:hover:before {color: black;}#sk-container-id-2 div.sk-estimator:hover label.sk-toggleable__label-arrow:before {color: black;}#sk-container-id-2 div.sk-toggleable__content {max-height: 0;max-width: 0;overflow: hidden;text-align: left;background-color: #f0f8ff;}#sk-container-id-2 div.sk-toggleable__content pre {margin: 0.2em;color: black;border-radius: 0.25em;background-color: #f0f8ff;}#sk-container-id-2 input.sk-toggleable__control:checked~div.sk-toggleable__content {max-height: 200px;max-width: 100%;overflow: auto;}#sk-container-id-2 input.sk-toggleable__control:checked~label.sk-toggleable__label-arrow:before {content: \"▾\";}#sk-container-id-2 div.sk-estimator input.sk-toggleable__control:checked~label.sk-toggleable__label {background-color: #d4ebff;}#sk-container-id-2 div.sk-label input.sk-toggleable__control:checked~label.sk-toggleable__label {background-color: #d4ebff;}#sk-container-id-2 input.sk-hidden--visually {border: 0;clip: rect(1px 1px 1px 1px);clip: rect(1px, 1px, 1px, 1px);height: 1px;margin: -1px;overflow: hidden;padding: 0;position: absolute;width: 1px;}#sk-container-id-2 div.sk-estimator {font-family: monospace;background-color: #f0f8ff;border: 1px dotted black;border-radius: 0.25em;box-sizing: border-box;margin-bottom: 0.5em;}#sk-container-id-2 div.sk-estimator:hover {background-color: #d4ebff;}#sk-container-id-2 div.sk-parallel-item::after {content: \"\";width: 100%;border-bottom: 1px solid gray;flex-grow: 1;}#sk-container-id-2 div.sk-label:hover label.sk-toggleable__label {background-color: #d4ebff;}#sk-container-id-2 div.sk-serial::before {content: \"\";position: absolute;border-left: 1px solid gray;box-sizing: border-box;top: 0;bottom: 0;left: 50%;z-index: 0;}#sk-container-id-2 div.sk-serial {display: flex;flex-direction: column;align-items: center;background-color: white;padding-right: 0.2em;padding-left: 0.2em;position: relative;}#sk-container-id-2 div.sk-item {position: relative;z-index: 1;}#sk-container-id-2 div.sk-parallel {display: flex;align-items: stretch;justify-content: center;background-color: white;position: relative;}#sk-container-id-2 div.sk-item::before, #sk-container-id-2 div.sk-parallel-item::before {content: \"\";position: absolute;border-left: 1px solid gray;box-sizing: border-box;top: 0;bottom: 0;left: 50%;z-index: -1;}#sk-container-id-2 div.sk-parallel-item {display: flex;flex-direction: column;z-index: 1;position: relative;background-color: white;}#sk-container-id-2 div.sk-parallel-item:first-child::after {align-self: flex-end;width: 50%;}#sk-container-id-2 div.sk-parallel-item:last-child::after {align-self: flex-start;width: 50%;}#sk-container-id-2 div.sk-parallel-item:only-child::after {width: 0;}#sk-container-id-2 div.sk-dashed-wrapped {border: 1px dashed gray;margin: 0 0.4em 0.5em 0.4em;box-sizing: border-box;padding-bottom: 0.4em;background-color: white;}#sk-container-id-2 div.sk-label label {font-family: monospace;font-weight: bold;display: inline-block;line-height: 1.2em;}#sk-container-id-2 div.sk-label-container {text-align: center;}#sk-container-id-2 div.sk-container {/* jupyter's `normalize.less` sets `[hidden] { display: none; }` but bootstrap.min.css set `[hidden] { display: none !important; }` so we also need the `!important` here to be able to override the default hidden behavior on the sphinx rendered scikit-learn.org. See: https://github.com/scikit-learn/scikit-learn/issues/21755 */display: inline-block !important;position: relative;}#sk-container-id-2 div.sk-text-repr-fallback {display: none;}</style><div id=\"sk-container-id-2\" class=\"sk-top-container\"><div class=\"sk-text-repr-fallback\"><pre>MultinomialNB()</pre><b>In a Jupyter environment, please rerun this cell to show the HTML representation or trust the notebook. <br />On GitHub, the HTML representation is unable to render, please try loading this page with nbviewer.org.</b></div><div class=\"sk-container\" hidden><div class=\"sk-item\"><div class=\"sk-estimator sk-toggleable\"><input class=\"sk-toggleable__control sk-hidden--visually\" id=\"sk-estimator-id-2\" type=\"checkbox\" checked><label for=\"sk-estimator-id-2\" class=\"sk-toggleable__label sk-toggleable__label-arrow\">MultinomialNB</label><div class=\"sk-toggleable__content\"><pre>MultinomialNB()</pre></div></div></div></div></div>"
            ]
          },
          "metadata": {},
          "execution_count": 22
        }
      ],
      "source": [
        "NB_Model = MultinomialNB()\n",
        "NB_Model.fit(X_train_vectorized, y_train)"
      ]
    },
    {
      "cell_type": "code",
      "source": [
        "test_sentiment = 'It is a good day!'\n",
        "test_sentiment_data = {'Sentiment': [test_sentiment], 'Value': [1]}\n",
        "test_sentiment_df = pd.DataFrame(test_sentiment_data)\n",
        "x = test_sentiment_df['Sentiment']\n",
        "test_sentiment1 = x.apply(formatting_textual_details)\n",
        "test_sentiment2 = vectorize.transform(test_sentiment1)\n",
        "test_sentiment_pred = NB_Model.predict(test_sentiment2)\n",
        "print(test_sentiment_pred[0])"
      ],
      "metadata": {
        "colab": {
          "base_uri": "https://localhost:8080/"
        },
        "id": "ei0vTj7SbWDy",
        "outputId": "4079db86-5277-4e6f-a37c-f8173507ea72"
      },
      "id": "ei0vTj7SbWDy",
      "execution_count": 23,
      "outputs": [
        {
          "output_type": "stream",
          "name": "stdout",
          "text": [
            "1\n"
          ]
        }
      ]
    },
    {
      "cell_type": "code",
      "source": [
        "test_sentiment = 'It is a bad day!'\n",
        "test_sentiment_data = {'Sentiment': [test_sentiment], 'Value': [1]}\n",
        "test_sentiment_df = pd.DataFrame(test_sentiment_data)\n",
        "x = test_sentiment_df['Sentiment']\n",
        "test_sentiment1 = x.apply(formatting_textual_details)\n",
        "test_sentiment2 = vectorize.transform(test_sentiment1)\n",
        "test_sentiment_pred = NB_Model.predict(test_sentiment2)\n",
        "print(test_sentiment_pred[0])"
      ],
      "metadata": {
        "colab": {
          "base_uri": "https://localhost:8080/"
        },
        "id": "inXX-fk-kP_B",
        "outputId": "444f4869-18f9-4223-ea4b-c2d5dd2e8d6a"
      },
      "id": "inXX-fk-kP_B",
      "execution_count": 24,
      "outputs": [
        {
          "output_type": "stream",
          "name": "stdout",
          "text": [
            "0\n"
          ]
        }
      ]
    },
    {
      "cell_type": "code",
      "execution_count": 25,
      "id": "fc41434d",
      "metadata": {
        "id": "fc41434d"
      },
      "outputs": [],
      "source": [
        "y_pred = NB_Model.predict(X_test_vectorized)"
      ]
    },
    {
      "cell_type": "code",
      "execution_count": 26,
      "id": "10979a2f",
      "metadata": {
        "id": "10979a2f"
      },
      "outputs": [],
      "source": [
        "accuracy = accuracy_score(y_test, y_pred)"
      ]
    },
    {
      "cell_type": "code",
      "execution_count": 27,
      "id": "39297eea",
      "metadata": {
        "colab": {
          "base_uri": "https://localhost:8080/"
        },
        "id": "39297eea",
        "outputId": "5a1f075f-c8c0-4d21-ba81-a436715a6402"
      },
      "outputs": [
        {
          "output_type": "stream",
          "name": "stdout",
          "text": [
            "Naive Bayes Accuracy is:  76.09991046994831\n"
          ]
        }
      ],
      "source": [
        "print(\"Naive Bayes Accuracy is: \", accuracy * 100)"
      ]
    },
    {
      "cell_type": "code",
      "execution_count": 28,
      "id": "14b60066",
      "metadata": {
        "id": "14b60066"
      },
      "outputs": [],
      "source": [
        "cm = confusion_matrix(y_test, y_pred)"
      ]
    },
    {
      "cell_type": "code",
      "execution_count": 29,
      "id": "4924620a",
      "metadata": {
        "colab": {
          "base_uri": "https://localhost:8080/"
        },
        "id": "4924620a",
        "outputId": "29fec50a-b550-4c60-8bf9-27dd342f4038"
      },
      "outputs": [
        {
          "output_type": "stream",
          "name": "stdout",
          "text": [
            "Naive Bayes Confusion Matrix: \n",
            "[[185584  50615]\n",
            " [ 62572 174813]]\n"
          ]
        }
      ],
      "source": [
        "print(\"Naive Bayes Confusion Matrix: \")\n",
        "print(cm)"
      ]
    },
    {
      "cell_type": "code",
      "execution_count": 30,
      "id": "1d8c3a23",
      "metadata": {
        "id": "1d8c3a23"
      },
      "outputs": [],
      "source": [
        "classification_report = classification_report(y_test, y_pred)"
      ]
    },
    {
      "cell_type": "code",
      "execution_count": 31,
      "id": "7520eaf3",
      "metadata": {
        "colab": {
          "base_uri": "https://localhost:8080/"
        },
        "id": "7520eaf3",
        "outputId": "530943e9-c738-4c1b-c3d9-0bb639eeeef3"
      },
      "outputs": [
        {
          "output_type": "stream",
          "name": "stdout",
          "text": [
            "Naive Bayes Classification Report is: \n",
            "              precision    recall  f1-score   support\n",
            "\n",
            "           0       0.75      0.79      0.77    236199\n",
            "           1       0.78      0.74      0.76    237385\n",
            "\n",
            "    accuracy                           0.76    473584\n",
            "   macro avg       0.76      0.76      0.76    473584\n",
            "weighted avg       0.76      0.76      0.76    473584\n",
            "\n"
          ]
        }
      ],
      "source": [
        "print(\"Naive Bayes Classification Report is: \")\n",
        "print(classification_report)"
      ]
    },
    {
      "cell_type": "markdown",
      "id": "f39113fc",
      "metadata": {
        "id": "f39113fc"
      },
      "source": [
        "# SVM Classifier"
      ]
    },
    {
      "cell_type": "code",
      "execution_count": 32,
      "id": "88cb28ba",
      "metadata": {
        "id": "88cb28ba"
      },
      "outputs": [],
      "source": [
        "from sklearn.svm import SVC"
      ]
    },
    {
      "cell_type": "code",
      "execution_count": 36,
      "id": "832d51a6",
      "metadata": {
        "id": "832d51a6",
        "colab": {
          "base_uri": "https://localhost:8080/",
          "height": 74
        },
        "outputId": "3fa5d702-1e68-4034-9e3b-d73d1f8ae69a"
      },
      "outputs": [
        {
          "output_type": "execute_result",
          "data": {
            "text/plain": [
              "SVC()"
            ],
            "text/html": [
              "<style>#sk-container-id-4 {color: black;background-color: white;}#sk-container-id-4 pre{padding: 0;}#sk-container-id-4 div.sk-toggleable {background-color: white;}#sk-container-id-4 label.sk-toggleable__label {cursor: pointer;display: block;width: 100%;margin-bottom: 0;padding: 0.3em;box-sizing: border-box;text-align: center;}#sk-container-id-4 label.sk-toggleable__label-arrow:before {content: \"▸\";float: left;margin-right: 0.25em;color: #696969;}#sk-container-id-4 label.sk-toggleable__label-arrow:hover:before {color: black;}#sk-container-id-4 div.sk-estimator:hover label.sk-toggleable__label-arrow:before {color: black;}#sk-container-id-4 div.sk-toggleable__content {max-height: 0;max-width: 0;overflow: hidden;text-align: left;background-color: #f0f8ff;}#sk-container-id-4 div.sk-toggleable__content pre {margin: 0.2em;color: black;border-radius: 0.25em;background-color: #f0f8ff;}#sk-container-id-4 input.sk-toggleable__control:checked~div.sk-toggleable__content {max-height: 200px;max-width: 100%;overflow: auto;}#sk-container-id-4 input.sk-toggleable__control:checked~label.sk-toggleable__label-arrow:before {content: \"▾\";}#sk-container-id-4 div.sk-estimator input.sk-toggleable__control:checked~label.sk-toggleable__label {background-color: #d4ebff;}#sk-container-id-4 div.sk-label input.sk-toggleable__control:checked~label.sk-toggleable__label {background-color: #d4ebff;}#sk-container-id-4 input.sk-hidden--visually {border: 0;clip: rect(1px 1px 1px 1px);clip: rect(1px, 1px, 1px, 1px);height: 1px;margin: -1px;overflow: hidden;padding: 0;position: absolute;width: 1px;}#sk-container-id-4 div.sk-estimator {font-family: monospace;background-color: #f0f8ff;border: 1px dotted black;border-radius: 0.25em;box-sizing: border-box;margin-bottom: 0.5em;}#sk-container-id-4 div.sk-estimator:hover {background-color: #d4ebff;}#sk-container-id-4 div.sk-parallel-item::after {content: \"\";width: 100%;border-bottom: 1px solid gray;flex-grow: 1;}#sk-container-id-4 div.sk-label:hover label.sk-toggleable__label {background-color: #d4ebff;}#sk-container-id-4 div.sk-serial::before {content: \"\";position: absolute;border-left: 1px solid gray;box-sizing: border-box;top: 0;bottom: 0;left: 50%;z-index: 0;}#sk-container-id-4 div.sk-serial {display: flex;flex-direction: column;align-items: center;background-color: white;padding-right: 0.2em;padding-left: 0.2em;position: relative;}#sk-container-id-4 div.sk-item {position: relative;z-index: 1;}#sk-container-id-4 div.sk-parallel {display: flex;align-items: stretch;justify-content: center;background-color: white;position: relative;}#sk-container-id-4 div.sk-item::before, #sk-container-id-4 div.sk-parallel-item::before {content: \"\";position: absolute;border-left: 1px solid gray;box-sizing: border-box;top: 0;bottom: 0;left: 50%;z-index: -1;}#sk-container-id-4 div.sk-parallel-item {display: flex;flex-direction: column;z-index: 1;position: relative;background-color: white;}#sk-container-id-4 div.sk-parallel-item:first-child::after {align-self: flex-end;width: 50%;}#sk-container-id-4 div.sk-parallel-item:last-child::after {align-self: flex-start;width: 50%;}#sk-container-id-4 div.sk-parallel-item:only-child::after {width: 0;}#sk-container-id-4 div.sk-dashed-wrapped {border: 1px dashed gray;margin: 0 0.4em 0.5em 0.4em;box-sizing: border-box;padding-bottom: 0.4em;background-color: white;}#sk-container-id-4 div.sk-label label {font-family: monospace;font-weight: bold;display: inline-block;line-height: 1.2em;}#sk-container-id-4 div.sk-label-container {text-align: center;}#sk-container-id-4 div.sk-container {/* jupyter's `normalize.less` sets `[hidden] { display: none; }` but bootstrap.min.css set `[hidden] { display: none !important; }` so we also need the `!important` here to be able to override the default hidden behavior on the sphinx rendered scikit-learn.org. See: https://github.com/scikit-learn/scikit-learn/issues/21755 */display: inline-block !important;position: relative;}#sk-container-id-4 div.sk-text-repr-fallback {display: none;}</style><div id=\"sk-container-id-4\" class=\"sk-top-container\"><div class=\"sk-text-repr-fallback\"><pre>SVC()</pre><b>In a Jupyter environment, please rerun this cell to show the HTML representation or trust the notebook. <br />On GitHub, the HTML representation is unable to render, please try loading this page with nbviewer.org.</b></div><div class=\"sk-container\" hidden><div class=\"sk-item\"><div class=\"sk-estimator sk-toggleable\"><input class=\"sk-toggleable__control sk-hidden--visually\" id=\"sk-estimator-id-4\" type=\"checkbox\" checked><label for=\"sk-estimator-id-4\" class=\"sk-toggleable__label sk-toggleable__label-arrow\">SVC</label><div class=\"sk-toggleable__content\"><pre>SVC()</pre></div></div></div></div></div>"
            ]
          },
          "metadata": {},
          "execution_count": 36
        }
      ],
      "source": [
        "SVM_Model = SVC(kernel='rbf')\n",
        "SVM_Model.fit(X_train_vectorized, y_train)"
      ]
    },
    {
      "cell_type": "code",
      "source": [
        "test_sentiment = 'It is a good day!'\n",
        "test_sentiment_data = {'Sentiment': [test_sentiment], 'Value': [1]}\n",
        "test_sentiment_df = pd.DataFrame(test_sentiment_data)\n",
        "x = test_sentiment_df['Sentiment']\n",
        "test_sentiment1 = x.apply(formatting_textual_details)\n",
        "test_sentiment2 = vectorize.transform(test_sentiment1)\n",
        "test_sentiment_pred = SVM_Model.predict(test_sentiment2)\n",
        "print(test_sentiment_pred[0])"
      ],
      "metadata": {
        "colab": {
          "base_uri": "https://localhost:8080/"
        },
        "id": "PaInfdOZoDWU",
        "outputId": "844c32fc-a5ed-4ec6-8097-3506c96b7d3a"
      },
      "id": "PaInfdOZoDWU",
      "execution_count": 37,
      "outputs": [
        {
          "output_type": "stream",
          "name": "stdout",
          "text": [
            "1\n"
          ]
        }
      ]
    },
    {
      "cell_type": "code",
      "source": [
        "test_sentiment = 'It is a bad day!'\n",
        "test_sentiment_data = {'Sentiment': [test_sentiment], 'Value': [1]}\n",
        "test_sentiment_df = pd.DataFrame(test_sentiment_data)\n",
        "x = test_sentiment_df['Sentiment']\n",
        "test_sentiment1 = x.apply(formatting_textual_details)\n",
        "test_sentiment2 = vectorize.transform(test_sentiment1)\n",
        "test_sentiment_pred = SVM_Model.predict(test_sentiment2)\n",
        "print(test_sentiment_pred[0])"
      ],
      "metadata": {
        "colab": {
          "base_uri": "https://localhost:8080/"
        },
        "id": "Tb5ttYX2oDn9",
        "outputId": "6df3699f-5f04-4f39-b5b1-632b5ce68516"
      },
      "id": "Tb5ttYX2oDn9",
      "execution_count": 38,
      "outputs": [
        {
          "output_type": "stream",
          "name": "stdout",
          "text": [
            "0\n"
          ]
        }
      ]
    },
    {
      "cell_type": "code",
      "execution_count": 40,
      "id": "7553cd70",
      "metadata": {
        "id": "7553cd70"
      },
      "outputs": [],
      "source": [
        "y_pred = SVM_Model.predict(X_test_vectorized)"
      ]
    },
    {
      "cell_type": "code",
      "execution_count": 41,
      "id": "8bc7f6f6",
      "metadata": {
        "id": "8bc7f6f6"
      },
      "outputs": [],
      "source": [
        "accuracy = accuracy_score(y_test, y_pred)"
      ]
    },
    {
      "cell_type": "code",
      "execution_count": 42,
      "id": "5ff09aec",
      "metadata": {
        "id": "5ff09aec",
        "colab": {
          "base_uri": "https://localhost:8080/"
        },
        "outputId": "a3a0c87a-ff66-4cc0-e3b9-ef54a2d2fd74"
      },
      "outputs": [
        {
          "output_type": "stream",
          "name": "stdout",
          "text": [
            "SVM Accuracy is:  72.0663821900211\n"
          ]
        }
      ],
      "source": [
        "print(\"SVM Accuracy is: \", accuracy * 100)"
      ]
    },
    {
      "cell_type": "code",
      "execution_count": 43,
      "id": "7be56688",
      "metadata": {
        "id": "7be56688"
      },
      "outputs": [],
      "source": [
        "cm = confusion_matrix(y_test, y_pred)"
      ]
    },
    {
      "cell_type": "code",
      "execution_count": 44,
      "id": "8a6effdb",
      "metadata": {
        "id": "8a6effdb",
        "colab": {
          "base_uri": "https://localhost:8080/"
        },
        "outputId": "cf289a9f-932c-4873-fcbf-9b92c8138bc2"
      },
      "outputs": [
        {
          "output_type": "stream",
          "name": "stdout",
          "text": [
            "SVM Confusion Matrix: \n",
            "[[170482  62491]\n",
            " [ 69846 170765]]\n"
          ]
        }
      ],
      "source": [
        "print(\"SVM Confusion Matrix: \")\n",
        "print(cm)"
      ]
    },
    {
      "cell_type": "code",
      "execution_count": 46,
      "id": "352e1f87",
      "metadata": {
        "id": "352e1f87"
      },
      "outputs": [],
      "source": [
        "classification_report = classification_report(y_test, y_pred)"
      ]
    },
    {
      "cell_type": "code",
      "execution_count": 47,
      "id": "c9b01369",
      "metadata": {
        "id": "c9b01369",
        "colab": {
          "base_uri": "https://localhost:8080/"
        },
        "outputId": "80645c0b-7398-4bb7-fffd-b70204000715"
      },
      "outputs": [
        {
          "output_type": "stream",
          "name": "stdout",
          "text": [
            "SVM Classification Report is: \n",
            "              precision    recall  f1-score   support\n",
            "\n",
            "            0      0.71      0.73      0.72    232973\n",
            "            1      0.73      0.71      0.72    240611\n",
            "\n",
            "     accuracy                          0.72    473584\n",
            "    macro avg      0.72      0.72      0.72    473584\n",
            " weighted avg      0.72      0.72      0.72    473584\n"
          ]
        }
      ],
      "source": [
        "print(\"SVM Classification Report is: \")\n",
        "print(classification_report)"
      ]
    },
    {
      "cell_type": "markdown",
      "id": "3c618154",
      "metadata": {
        "id": "3c618154"
      },
      "source": [
        "# Bi-LSTM Classifier"
      ]
    },
    {
      "cell_type": "code",
      "source": [
        "! pip install tensorflow"
      ],
      "metadata": {
        "id": "CWGZjpRkQ9-m",
        "colab": {
          "base_uri": "https://localhost:8080/"
        },
        "outputId": "cfd25404-5ba4-45ca-e974-35b79c657adc"
      },
      "id": "CWGZjpRkQ9-m",
      "execution_count": 48,
      "outputs": [
        {
          "output_type": "stream",
          "name": "stdout",
          "text": [
            "Requirement already satisfied: tensorflow in /usr/local/lib/python3.10/dist-packages (2.14.0)\n",
            "Requirement already satisfied: absl-py>=1.0.0 in /usr/local/lib/python3.10/dist-packages (from tensorflow) (1.4.0)\n",
            "Requirement already satisfied: astunparse>=1.6.0 in /usr/local/lib/python3.10/dist-packages (from tensorflow) (1.6.3)\n",
            "Requirement already satisfied: flatbuffers>=23.5.26 in /usr/local/lib/python3.10/dist-packages (from tensorflow) (23.5.26)\n",
            "Requirement already satisfied: gast!=0.5.0,!=0.5.1,!=0.5.2,>=0.2.1 in /usr/local/lib/python3.10/dist-packages (from tensorflow) (0.5.4)\n",
            "Requirement already satisfied: google-pasta>=0.1.1 in /usr/local/lib/python3.10/dist-packages (from tensorflow) (0.2.0)\n",
            "Requirement already satisfied: h5py>=2.9.0 in /usr/local/lib/python3.10/dist-packages (from tensorflow) (3.9.0)\n",
            "Requirement already satisfied: libclang>=13.0.0 in /usr/local/lib/python3.10/dist-packages (from tensorflow) (16.0.6)\n",
            "Requirement already satisfied: ml-dtypes==0.2.0 in /usr/local/lib/python3.10/dist-packages (from tensorflow) (0.2.0)\n",
            "Requirement already satisfied: numpy>=1.23.5 in /usr/local/lib/python3.10/dist-packages (from tensorflow) (1.23.5)\n",
            "Requirement already satisfied: opt-einsum>=2.3.2 in /usr/local/lib/python3.10/dist-packages (from tensorflow) (3.3.0)\n",
            "Requirement already satisfied: packaging in /usr/local/lib/python3.10/dist-packages (from tensorflow) (23.2)\n",
            "Requirement already satisfied: protobuf!=4.21.0,!=4.21.1,!=4.21.2,!=4.21.3,!=4.21.4,!=4.21.5,<5.0.0dev,>=3.20.3 in /usr/local/lib/python3.10/dist-packages (from tensorflow) (3.20.3)\n",
            "Requirement already satisfied: setuptools in /usr/local/lib/python3.10/dist-packages (from tensorflow) (67.7.2)\n",
            "Requirement already satisfied: six>=1.12.0 in /usr/local/lib/python3.10/dist-packages (from tensorflow) (1.16.0)\n",
            "Requirement already satisfied: termcolor>=1.1.0 in /usr/local/lib/python3.10/dist-packages (from tensorflow) (2.3.0)\n",
            "Requirement already satisfied: typing-extensions>=3.6.6 in /usr/local/lib/python3.10/dist-packages (from tensorflow) (4.5.0)\n",
            "Requirement already satisfied: wrapt<1.15,>=1.11.0 in /usr/local/lib/python3.10/dist-packages (from tensorflow) (1.14.1)\n",
            "Requirement already satisfied: tensorflow-io-gcs-filesystem>=0.23.1 in /usr/local/lib/python3.10/dist-packages (from tensorflow) (0.34.0)\n",
            "Requirement already satisfied: grpcio<2.0,>=1.24.3 in /usr/local/lib/python3.10/dist-packages (from tensorflow) (1.59.2)\n",
            "Requirement already satisfied: tensorboard<2.15,>=2.14 in /usr/local/lib/python3.10/dist-packages (from tensorflow) (2.14.1)\n",
            "Requirement already satisfied: tensorflow-estimator<2.15,>=2.14.0 in /usr/local/lib/python3.10/dist-packages (from tensorflow) (2.14.0)\n",
            "Requirement already satisfied: keras<2.15,>=2.14.0 in /usr/local/lib/python3.10/dist-packages (from tensorflow) (2.14.0)\n",
            "Requirement already satisfied: wheel<1.0,>=0.23.0 in /usr/local/lib/python3.10/dist-packages (from astunparse>=1.6.0->tensorflow) (0.41.3)\n",
            "Requirement already satisfied: google-auth<3,>=1.6.3 in /usr/local/lib/python3.10/dist-packages (from tensorboard<2.15,>=2.14->tensorflow) (2.17.3)\n",
            "Requirement already satisfied: google-auth-oauthlib<1.1,>=0.5 in /usr/local/lib/python3.10/dist-packages (from tensorboard<2.15,>=2.14->tensorflow) (1.0.0)\n",
            "Requirement already satisfied: markdown>=2.6.8 in /usr/local/lib/python3.10/dist-packages (from tensorboard<2.15,>=2.14->tensorflow) (3.5.1)\n",
            "Requirement already satisfied: requests<3,>=2.21.0 in /usr/local/lib/python3.10/dist-packages (from tensorboard<2.15,>=2.14->tensorflow) (2.31.0)\n",
            "Requirement already satisfied: tensorboard-data-server<0.8.0,>=0.7.0 in /usr/local/lib/python3.10/dist-packages (from tensorboard<2.15,>=2.14->tensorflow) (0.7.2)\n",
            "Requirement already satisfied: werkzeug>=1.0.1 in /usr/local/lib/python3.10/dist-packages (from tensorboard<2.15,>=2.14->tensorflow) (3.0.1)\n",
            "Requirement already satisfied: cachetools<6.0,>=2.0.0 in /usr/local/lib/python3.10/dist-packages (from google-auth<3,>=1.6.3->tensorboard<2.15,>=2.14->tensorflow) (5.3.2)\n",
            "Requirement already satisfied: pyasn1-modules>=0.2.1 in /usr/local/lib/python3.10/dist-packages (from google-auth<3,>=1.6.3->tensorboard<2.15,>=2.14->tensorflow) (0.3.0)\n",
            "Requirement already satisfied: rsa<5,>=3.1.4 in /usr/local/lib/python3.10/dist-packages (from google-auth<3,>=1.6.3->tensorboard<2.15,>=2.14->tensorflow) (4.9)\n",
            "Requirement already satisfied: requests-oauthlib>=0.7.0 in /usr/local/lib/python3.10/dist-packages (from google-auth-oauthlib<1.1,>=0.5->tensorboard<2.15,>=2.14->tensorflow) (1.3.1)\n",
            "Requirement already satisfied: charset-normalizer<4,>=2 in /usr/local/lib/python3.10/dist-packages (from requests<3,>=2.21.0->tensorboard<2.15,>=2.14->tensorflow) (3.3.2)\n",
            "Requirement already satisfied: idna<4,>=2.5 in /usr/local/lib/python3.10/dist-packages (from requests<3,>=2.21.0->tensorboard<2.15,>=2.14->tensorflow) (3.4)\n",
            "Requirement already satisfied: urllib3<3,>=1.21.1 in /usr/local/lib/python3.10/dist-packages (from requests<3,>=2.21.0->tensorboard<2.15,>=2.14->tensorflow) (2.0.7)\n",
            "Requirement already satisfied: certifi>=2017.4.17 in /usr/local/lib/python3.10/dist-packages (from requests<3,>=2.21.0->tensorboard<2.15,>=2.14->tensorflow) (2023.7.22)\n",
            "Requirement already satisfied: MarkupSafe>=2.1.1 in /usr/local/lib/python3.10/dist-packages (from werkzeug>=1.0.1->tensorboard<2.15,>=2.14->tensorflow) (2.1.3)\n",
            "Requirement already satisfied: pyasn1<0.6.0,>=0.4.6 in /usr/local/lib/python3.10/dist-packages (from pyasn1-modules>=0.2.1->google-auth<3,>=1.6.3->tensorboard<2.15,>=2.14->tensorflow) (0.5.0)\n",
            "Requirement already satisfied: oauthlib>=3.0.0 in /usr/local/lib/python3.10/dist-packages (from requests-oauthlib>=0.7.0->google-auth-oauthlib<1.1,>=0.5->tensorboard<2.15,>=2.14->tensorflow) (3.2.2)\n"
          ]
        }
      ]
    },
    {
      "cell_type": "code",
      "execution_count": 49,
      "id": "d83f2457",
      "metadata": {
        "id": "d83f2457"
      },
      "outputs": [],
      "source": [
        "from sklearn.preprocessing import LabelEncoder\n",
        "from tensorflow.keras.models import Sequential\n",
        "from tensorflow.keras.preprocessing.text import Tokenizer\n",
        "from tensorflow.keras.layers import Embedding, Bidirectional, LSTM, Dense\n",
        "from tensorflow.keras.preprocessing.sequence import pad_sequences\n",
        "from nltk.tokenize import word_tokenize"
      ]
    },
    {
      "cell_type": "code",
      "execution_count": 51,
      "id": "1a566e8a",
      "metadata": {
        "id": "1a566e8a"
      },
      "outputs": [],
      "source": [
        "X = sentiment_data['SentimentText']\n",
        "y = sentiment_data['Sentiment']"
      ]
    },
    {
      "cell_type": "code",
      "execution_count": 52,
      "id": "50009d06",
      "metadata": {
        "id": "50009d06"
      },
      "outputs": [],
      "source": [
        "le = LabelEncoder()\n",
        "y = le.fit_transform(y)"
      ]
    },
    {
      "cell_type": "code",
      "execution_count": 53,
      "id": "6ffbb20d",
      "metadata": {
        "id": "6ffbb20d"
      },
      "outputs": [],
      "source": [
        "X_train, X_test, y_train, y_test = train_test_split(X, y, test_size = 0.3, random_state = 32)"
      ]
    },
    {
      "cell_type": "code",
      "execution_count": 54,
      "id": "68c536f2",
      "metadata": {
        "id": "68c536f2"
      },
      "outputs": [],
      "source": [
        "sw = set(stopwords.words('english'))"
      ]
    },
    {
      "cell_type": "code",
      "execution_count": 55,
      "id": "069a7008",
      "metadata": {
        "id": "069a7008"
      },
      "outputs": [],
      "source": [
        "def formatting_textual_details(text):\n",
        "    wd = word_tokenize(text)\n",
        "    wd = [w.lower() for w in wd if w.isalpha() and w.lower() not in sw]\n",
        "    return ' '.join(wd)"
      ]
    },
    {
      "cell_type": "code",
      "source": [
        "nltk.download('punkt')"
      ],
      "metadata": {
        "colab": {
          "base_uri": "https://localhost:8080/"
        },
        "id": "rtT78OcXFSpa",
        "outputId": "a7ac3e0b-4835-46cd-e8d3-5416a5210184"
      },
      "id": "rtT78OcXFSpa",
      "execution_count": 56,
      "outputs": [
        {
          "output_type": "stream",
          "name": "stderr",
          "text": [
            "[nltk_data] Downloading package punkt to /root/nltk_data...\n",
            "[nltk_data]   Unzipping tokenizers/punkt.zip.\n"
          ]
        },
        {
          "output_type": "execute_result",
          "data": {
            "text/plain": [
              "True"
            ]
          },
          "metadata": {},
          "execution_count": 56
        }
      ]
    },
    {
      "cell_type": "code",
      "execution_count": 57,
      "id": "e6b249b0",
      "metadata": {
        "id": "e6b249b0"
      },
      "outputs": [],
      "source": [
        "X_train = X_train.apply(formatting_textual_details)\n",
        "X_test = X_test.apply(formatting_textual_details)"
      ]
    },
    {
      "cell_type": "code",
      "execution_count": 58,
      "id": "727bbc23",
      "metadata": {
        "id": "727bbc23"
      },
      "outputs": [],
      "source": [
        "tokenizer = Tokenizer(num_words = 10000)\n",
        "tokenizer.fit_on_texts(X_train)"
      ]
    },
    {
      "cell_type": "code",
      "execution_count": 59,
      "id": "57cb6004",
      "metadata": {
        "id": "57cb6004"
      },
      "outputs": [],
      "source": [
        "X_train_sequential = tokenizer.texts_to_sequences(X_train)\n",
        "X_test_sequential = tokenizer.texts_to_sequences(X_test)"
      ]
    },
    {
      "cell_type": "code",
      "execution_count": 60,
      "id": "619bba1e",
      "metadata": {
        "id": "619bba1e"
      },
      "outputs": [],
      "source": [
        "X_train_padded = pad_sequences(X_train_sequential, maxlen = 50, padding = 'post')\n",
        "X_test_padded = pad_sequences(X_test_sequential, maxlen = 50, padding = 'post')"
      ]
    },
    {
      "cell_type": "code",
      "execution_count": 61,
      "id": "fde51b61",
      "metadata": {
        "id": "fde51b61"
      },
      "outputs": [],
      "source": [
        "BiLSTM_Model = Sequential()\n",
        "BiLSTM_Model.add(Embedding(input_dim = 10000, output_dim = 100, input_length = 50))\n",
        "BiLSTM_Model.add(Bidirectional(LSTM(64, return_sequences = True)))\n",
        "BiLSTM_Model.add(Bidirectional(LSTM(32)))\n",
        "BiLSTM_Model.add(Dense(1, activation = 'sigmoid'))"
      ]
    },
    {
      "cell_type": "code",
      "execution_count": 62,
      "id": "212d9fce",
      "metadata": {
        "id": "212d9fce"
      },
      "outputs": [],
      "source": [
        "BiLSTM_Model.compile(optimizer = 'adam', loss = 'binary_crossentropy', metrics = ['accuracy'])"
      ]
    },
    {
      "cell_type": "code",
      "execution_count": 63,
      "id": "613aea4e",
      "metadata": {
        "id": "613aea4e",
        "colab": {
          "base_uri": "https://localhost:8080/"
        },
        "outputId": "9fafdc34-1091-4b4c-84a9-6d4fba88fb6e"
      },
      "outputs": [
        {
          "output_type": "stream",
          "name": "stdout",
          "text": [
            "Epoch 1/5\n",
            "12087/12087 [==============================] - 261s 21ms/step - loss: 0.4711 - accuracy: 0.7732 - val_loss: 0.4555 - val_accuracy: 0.7844\n",
            "Epoch 2/5\n",
            "12087/12087 [==============================] - 211s 17ms/step - loss: 0.4407 - accuracy: 0.7922 - val_loss: 0.4533 - val_accuracy: 0.7862\n",
            "Epoch 3/5\n",
            "12087/12087 [==============================] - 220s 18ms/step - loss: 0.4230 - accuracy: 0.8023 - val_loss: 0.4544 - val_accuracy: 0.7865\n",
            "Epoch 4/5\n",
            "12087/12087 [==============================] - 215s 18ms/step - loss: 0.4041 - accuracy: 0.8129 - val_loss: 0.4569 - val_accuracy: 0.7863\n",
            "Epoch 5/5\n",
            "12087/12087 [==============================] - 206s 17ms/step - loss: 0.3826 - accuracy: 0.8245 - val_loss: 0.4717 - val_accuracy: 0.7819\n"
          ]
        },
        {
          "output_type": "execute_result",
          "data": {
            "text/plain": [
              "<keras.src.callbacks.History at 0x7acf3c2fe3b0>"
            ]
          },
          "metadata": {},
          "execution_count": 63
        }
      ],
      "source": [
        "BiLSTM_Model.fit(X_train_padded, y_train, epochs = 5, batch_size = 64, validation_split = 0.3)"
      ]
    },
    {
      "cell_type": "code",
      "source": [
        "test_sentiment = 'It is a good day!'\n",
        "test_sentiment_data = {'Sentiment': [test_sentiment], 'Value': [1]}\n",
        "test_sentiment_df = pd.DataFrame(test_sentiment_data)\n",
        "x = test_sentiment_df['Sentiment']\n",
        "test_sentiment1 = x.apply(formatting_textual_details)\n",
        "test_sentiment2 = tokenizer.texts_to_sequences(test_sentiment1)\n",
        "test_sentiment_pred = BiLSTM_Model.predict(test_sentiment2)\n",
        "print(test_sentiment_pred[0].round())"
      ],
      "metadata": {
        "colab": {
          "base_uri": "https://localhost:8080/"
        },
        "id": "wmS0yzUW20Az",
        "outputId": "a3dd61ce-c8ef-4f20-dad1-15218d1230ba"
      },
      "id": "wmS0yzUW20Az",
      "execution_count": 68,
      "outputs": [
        {
          "output_type": "stream",
          "name": "stdout",
          "text": [
            "1\n"
          ]
        }
      ]
    },
    {
      "cell_type": "code",
      "source": [
        "test_sentiment = 'It is a bad day!'\n",
        "test_sentiment_data = {'Sentiment': [test_sentiment], 'Value': [1]}\n",
        "test_sentiment_df = pd.DataFrame(test_sentiment_data)\n",
        "x = test_sentiment_df['Sentiment']\n",
        "test_sentiment1 = x.apply(formatting_textual_details)\n",
        "test_sentiment2 = vectorize.transform(test_sentiment1)\n",
        "test_sentiment_pred = BiLSTM_Model.predict(test_sentiment2)\n",
        "print(test_sentiment_pred[0],round())"
      ],
      "metadata": {
        "colab": {
          "base_uri": "https://localhost:8080/"
        },
        "id": "m1gHjeww20C1",
        "outputId": "64ef9aad-085e-42d4-bef0-fbc843476cd5"
      },
      "id": "m1gHjeww20C1",
      "execution_count": 69,
      "outputs": [
        {
          "output_type": "stream",
          "name": "stdout",
          "text": [
            "0\n"
          ]
        }
      ]
    },
    {
      "cell_type": "code",
      "execution_count": 70,
      "id": "b401e14c",
      "metadata": {
        "id": "b401e14c",
        "colab": {
          "base_uri": "https://localhost:8080/"
        },
        "outputId": "de2f80d1-c243-4efb-bc08-117240999fa7"
      },
      "outputs": [
        {
          "output_type": "stream",
          "name": "stdout",
          "text": [
            "14800/14800 [==============================] - 91s 6ms/step\n"
          ]
        }
      ],
      "source": [
        "y_pred = BiLSTM_Model.predict(X_test_padded)"
      ]
    },
    {
      "cell_type": "code",
      "execution_count": 71,
      "id": "ff5aa5e6",
      "metadata": {
        "id": "ff5aa5e6"
      },
      "outputs": [],
      "source": [
        "accuracy = accuracy_score(y_test, y_pred.round())"
      ]
    },
    {
      "cell_type": "code",
      "execution_count": 72,
      "id": "0a63cc9f",
      "metadata": {
        "id": "0a63cc9f",
        "colab": {
          "base_uri": "https://localhost:8080/"
        },
        "outputId": "ef9fd01b-9074-47ac-9407-37dc8a64d833"
      },
      "outputs": [
        {
          "output_type": "stream",
          "name": "stdout",
          "text": [
            "Bi-LSTM Accuracy is:  78.29571944998142\n"
          ]
        }
      ],
      "source": [
        "print(\"Bi-LSTM Accuracy is: \", accuracy * 100)"
      ]
    },
    {
      "cell_type": "code",
      "execution_count": 73,
      "id": "fbfe03b5",
      "metadata": {
        "id": "fbfe03b5"
      },
      "outputs": [],
      "source": [
        "cm = confusion_matrix(y_test, y_pred.round())"
      ]
    },
    {
      "cell_type": "code",
      "execution_count": 74,
      "id": "0e5439c6",
      "metadata": {
        "id": "0e5439c6",
        "colab": {
          "base_uri": "https://localhost:8080/"
        },
        "outputId": "e047c54a-98a7-40e1-cba9-e24a51693861"
      },
      "outputs": [
        {
          "output_type": "stream",
          "name": "stdout",
          "text": [
            "Bi-LSTM Confusion Matrix: \n",
            "[[184891  51308]\n",
            " [ 51480 185905]]\n"
          ]
        }
      ],
      "source": [
        "print(\"Bi-LSTM Confusion Matrix: \")\n",
        "print(cm)"
      ]
    },
    {
      "cell_type": "code",
      "execution_count": 76,
      "id": "5a3345bd",
      "metadata": {
        "id": "5a3345bd"
      },
      "outputs": [],
      "source": [
        "classification_report = classification_report(y_test, y_pred.round())"
      ]
    },
    {
      "cell_type": "code",
      "execution_count": 77,
      "id": "5cce3391",
      "metadata": {
        "id": "5cce3391",
        "colab": {
          "base_uri": "https://localhost:8080/"
        },
        "outputId": "194a1a12-81d2-4dd6-bb40-cb9414373de8"
      },
      "outputs": [
        {
          "output_type": "stream",
          "name": "stdout",
          "text": [
            "Bi-LSTM Classification Report is: \n",
            "              precision    recall  f1-score   support\n",
            "\n",
            "           0       0.78      0.78      0.78    236199\n",
            "           1       0.78      0.78      0.78    237385\n",
            "\n",
            "    accuracy                           0.78    473584\n",
            "   macro avg       0.78      0.78      0.78    473584\n",
            "weighted avg       0.78      0.78      0.78    473584\n",
            "\n"
          ]
        }
      ],
      "source": [
        "print(\"Bi-LSTM Classification Report is: \")\n",
        "print(classification_report)"
      ]
    }
  ],
  "metadata": {
    "kernelspec": {
      "display_name": "Python 3",
      "name": "python3"
    },
    "language_info": {
      "codemirror_mode": {
        "name": "ipython",
        "version": 3
      },
      "file_extension": ".py",
      "mimetype": "text/x-python",
      "name": "python",
      "nbconvert_exporter": "python",
      "pygments_lexer": "ipython3",
      "version": "3.10.9"
    },
    "colab": {
      "provenance": [],
      "gpuType": "T4"
    },
    "accelerator": "GPU"
  },
  "nbformat": 4,
  "nbformat_minor": 5
}